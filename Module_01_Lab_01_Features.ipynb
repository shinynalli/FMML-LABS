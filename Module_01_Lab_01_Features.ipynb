{
  "nbformat": 4,
  "nbformat_minor": 0,
  "metadata": {
    "colab": {
      "provenance": [],
      "include_colab_link": true
    },
    "kernelspec": {
      "name": "python3",
      "display_name": "Python 3"
    },
    "language_info": {
      "name": "python"
    }
  },
  "cells": [
    {
      "cell_type": "markdown",
      "metadata": {
        "id": "view-in-github",
        "colab_type": "text"
      },
      "source": [
        "<a href=\"https://colab.research.google.com/github/shinynalli/FMML-LABS/blob/main/Module_01_Lab_01_Features.ipynb\" target=\"_parent\"><img src=\"https://colab.research.google.com/assets/colab-badge.svg\" alt=\"Open In Colab\"/></a>"
      ]
    },
    {
      "cell_type": "markdown",
      "metadata": {
        "id": "A6I1yI79fbLD"
      },
      "source": [
        "# Extracting features from data\n",
        "\n",
        "FMML Module 1, Lab 1<br>\n",
        "\n"
      ]
    },
    {
      "cell_type": "code",
      "metadata": {
        "id": "OimBnfcpvcNS",
        "colab": {
          "base_uri": "https://localhost:8080/"
        },
        "outputId": "7a151368-5f6c-4da0-c730-d742e838cd7b"
      },
      "source": [
        "! pip install wikipedia\n",
        "\n",
        "import wikipedia\n",
        "import nltk\n",
        "from nltk.util import ngrams\n",
        "from collections import Counter\n",
        "import matplotlib.pyplot as plt\n",
        "import numpy as np\n",
        "import re\n",
        "import unicodedata\n",
        "import plotly.express as px\n",
        "import pandas as pd"
      ],
      "execution_count": 45,
      "outputs": [
        {
          "output_type": "stream",
          "name": "stdout",
          "text": [
            "Requirement already satisfied: wikipedia in /usr/local/lib/python3.10/dist-packages (1.4.0)\n",
            "Requirement already satisfied: beautifulsoup4 in /usr/local/lib/python3.10/dist-packages (from wikipedia) (4.12.3)\n",
            "Requirement already satisfied: requests<3.0.0,>=2.0.0 in /usr/local/lib/python3.10/dist-packages (from wikipedia) (2.31.0)\n",
            "Requirement already satisfied: charset-normalizer<4,>=2 in /usr/local/lib/python3.10/dist-packages (from requests<3.0.0,>=2.0.0->wikipedia) (3.3.2)\n",
            "Requirement already satisfied: idna<4,>=2.5 in /usr/local/lib/python3.10/dist-packages (from requests<3.0.0,>=2.0.0->wikipedia) (3.7)\n",
            "Requirement already satisfied: urllib3<3,>=1.21.1 in /usr/local/lib/python3.10/dist-packages (from requests<3.0.0,>=2.0.0->wikipedia) (2.0.7)\n",
            "Requirement already satisfied: certifi>=2017.4.17 in /usr/local/lib/python3.10/dist-packages (from requests<3.0.0,>=2.0.0->wikipedia) (2024.2.2)\n",
            "Requirement already satisfied: soupsieve>1.2 in /usr/local/lib/python3.10/dist-packages (from beautifulsoup4->wikipedia) (2.5)\n"
          ]
        }
      ]
    },
    {
      "cell_type": "markdown",
      "metadata": {
        "id": "m6hGhIGiy4GP"
      },
      "source": [
        "# Part 1: Features of text\n",
        "How do we apply machine learning on text? We can't directly use the text as input to our algorithms. We need to convert them to features. In this notebook, we will explore a simple way of converting text to features.\n",
        "\n",
        "Let us download a few documents off Wikipedia."
      ]
    },
    {
      "cell_type": "code",
      "metadata": {
        "id": "lpUmCoEr2R3J"
      },
      "source": [
        "topic1 = 'Giraffe'\n",
        "topic2 = 'Elephant'\n",
        "\n",
        "wikipedia.set_lang('en')\n",
        "\n",
        "eng1 = wikipedia.page(topic1).content\n",
        "eng2 = wikipedia.page(topic2).content\n",
        "\n",
        "wikipedia.set_lang('fr')\n",
        "\n",
        "fr1 = wikipedia.page(topic1).content\n",
        "fr2 = wikipedia.page(topic2).content"
      ],
      "execution_count": 46,
      "outputs": []
    },
    {
      "cell_type": "markdown",
      "metadata": {
        "id": "Cj7RlhMiO5kd"
      },
      "source": [
        "This is what the text looks like:"
      ]
    },
    {
      "cell_type": "code",
      "metadata": {
        "id": "GW0G-t912UXZ",
        "colab": {
          "base_uri": "https://localhost:8080/",
          "height": 243
        },
        "outputId": "49071655-524a-4f6e-e4b5-fa1b042591b8"
      },
      "source": [
        "fr2"
      ],
      "execution_count": 47,
      "outputs": [
        {
          "output_type": "execute_result",
          "data": {
            "text/plain": [
              "'Les éléphants sont des mammifères proboscidiens de la famille des Éléphantidés. Ils correspondent aujourd\\'hui à trois espèces réparties en deux genres distincts. L\\'éléphant de savane d\\'Afrique et l\\'éléphant de forêt d\\'Afrique, autrefois regroupés sous la même espèce d\\'« éléphant d\\'Afrique », appartiennent au genre Loxodonta, tandis que l\\'éléphant d\\'Asie, anciennement appelé « éléphant indien », appartient au genre Elephas. Ils se différencient par certaines caractéristiques anatomiques, les éléphants d\\'Asie étant en général plus petits avec des oreilles plus petites, ou encore une différence du bout de la trompe. Ces espèces survivantes font localement l\\'objet de programmes ou de projets de réintroduction et de protection.\\nLe mot français « éléphant » vient du mot latin elephantus qui tire son origine du grec ἐλέφας / eléphas, « ivoire » ou « éléphant ».\\nL\\'éléphant apparait dans de nombreuses cultures. Il est symbole de sagesse dans la culture asiatique, connu pour sa mémoire et son intelligence, qui est comparée à celle des cétacés et hominidés. Aristote avait dit que l\\'éléphant est « la bête qui dépasse toutes les autres par l\\'intelligence et l\\'esprit ».\\n\\n\\n== Description ==\\n\\nL\\'éléphant d\\'Afrique, qui peut atteindre sept tonnes, est le plus gros animal terrestre actuel, mais il est loin derrière la Baleine bleue (Balaenoptera musculus) qui peut peser jusqu\\'à 200 tonnes et dépasser 30 mètres de long.\\n\\n\\n=== Squelette et muscles ===\\n\\nLe squelette de l\\'éléphant présente des caractéristiques dictées par la masse qu\\'il doit soutenir : il représente environ 16,5 % de la masse totale de l\\'animal, cela signifie que pour un éléphant de 7 tonnes, le squelette pèse 1,155 tonne. Les os de l\\'éléphant sont spongieux. Sa cage thoracique, formée de vingt côtes, est arrimée le long de l\\'épine dorsale.\\n\\nL\\'éléphant possède deux genoux à ses membres postérieurs, qui sont constitués d\\'un fémur, d\\'une rotule et de l\\'association tibia-fibula. Les membres antérieurs, quant à eux, comprennent une scapula, un humérus, et l\\'association radius-ulna.\\nL\\'éléphant marche sur le bout des doigts,. Les orteils sont insérés dans le pied, il y en a entre deux et cinq, on en voit seulement les ongles. Cependant on peut voir entre trois et cinq ongles en fonction des pieds. Les pieds antérieurs ont une forme arrondie, alors que les pieds postérieurs ont une forme ovale. Les pieds sont composés de tissus adipeux qui agissent comme des amortisseurs.\\nContrairement à la plupart des mammifères, il est impossible pour un éléphant de sauter, pour des raisons d\\'ordre biomécanique : il lui faut toujours un pied sur le sol. Cependant il peut courir à une vitesse maximale de 20 km/h (un éléphant ayant été chronométré à 24 km/h dans le cadre d\\'une étude scientifique).\\nMême si on emploie le terme « courir » pour un éléphant, il est à noter que le terme est inapproprié. Il serait plus logique de dire qu’il « marche vite ». En effet, il ne change pas son allure (sa façon de se déplacer) lorsqu’il accélère.\\nUn éléphant d\\'Afrique mâle adulte mesure 3,50 mètres au garrot et pèse cinq à six tonnes, une femelle adulte mesure trois mètres de haut au garrot pour une masse de quatre tonnes environ. À la naissance, l\\'éléphant pèse environ 120 kg. Un éléphant vit en moyenne 60 ans. Le plus grand éléphant connu a été signalé en Angola en 1974 : il s’agissait d’un mâle de 12 tonnes mesurant 4,20 m au garrot, soit un mètre de plus que la moyenne des éléphants africains.\\nDes éléphants nains, de la taille d\\'un grand cochon, ont également peuplé les îles méditerranéennes au cours de la Préhistoire, ; certains sont signalés en Crète jusqu\\'en 5000 av. J.-C., voire jusqu’en 3000 av. J.-C.,.\\n\\n\\n=== Trompe ===\\nLa principale caractéristique des éléphants est leur trompe appelée proboscis. Il s\\'agit d\\'un organe nasal (avec une fonction de respiration et de perception des odeurs) allongé qui découle de la fusion de la lèvre supérieure et du nez. La trompe est un organe souple et préhensile leur servant à porter l\\'eau et la nourriture à leur bouche, à tirer ou transporter des objets et à pousser des cris.\\nLa trompe comporte entre 100 000 et 150 000 muscles ; elle est dépourvue d\\'os et pèse plus de 100 kg.\\n« La trompe se compose de deux longs tuyaux cylindriques, partant de l’ouverture antérieure des fosses nasales. Ces tubes se rétrécissent à la région de l’inter mâchoire, ce qui empêche l’eau pompée par la trompe de pénétrer dans la cavité nasale ; ils offrent ensuite une dilatation, puis se resserrent de nouveau à l’endroit où ils s’ouvrent dans les narines osseuses, et où ils sont couverts par un cartilage nasal ovale. (…) Les tubes sont entourés d’une multitude de faisceaux musculaires, les uns longitudinaux, les autres rayonnant vers la peau et servant à comprimer les premiers. Quelques-uns enfin, mais en moins grand nombre sont circulaires. Cependant il faut distinguer de ces muscles, propres à la trompe, ceux qui servent à mouvoir l’organe en entier. Ces derniers sont comparables aux muscles de la queue. On les distingue en élévateurs et abaisseurs supérieurs et latéraux, qui naissent du front, des os propres du nez et des cartilages, tant de l’os maxillaire supérieur que de l’intermaxillaire ».\\nLe bout de la trompe d\\'un éléphant d\\'Afrique est en forme d\\'amande, alors que celle d\\'un éléphant d\\'Asie est en forme de poire. L\\'excroissance à son extrémité a une fonction analogue à un doigt, leur permettant de décortiquer une cacahuète. Les éléphants ne boivent pas directement par leur trompe. L\\'effort nécessaire pour se pencher jusqu\\'au sol afin de boire l\\'eau par la bouche étant trop important et l\\'opération étant même impossible lorsque l\\'eau se trouve au-dessous du niveau du sol, ils boivent en remplissant leur trompe avec de l\\'eau qu\\'ils aspirent et gardent momentanément avant de la verser ensuite, par gravité, dans leur bouche.\\nL\\'allongement du museau des proboscidiens anciens à l\\'origine de l\\'éléphant serait lié à la croissance continue des incisives (les défenses) et leur augmentation de taille : herbivores concurrencés par les ruminants et les équidés, leur adaptation trophique se traduit alors par un régime de plantes plus fibreuses peu nutritives et une augmentation de taille corrélative, les proboscidiens fourrageant pendant des heures à la recherche aussi bien de végétaux au sol que de feuilles d\\'arbres.\\n\\n\\t\\t\\n\\t\\t\\t\\n\\t\\t\\t\\n\\t\\t\\n\\t\\t\\n\\t\\t\\t\\n\\t\\t\\t\\n\\t\\t\\n\\t\\t\\n\\t\\t\\t\\n\\t\\t\\t\\n\\t\\t\\n\\n\\n=== Denture et défenses ===\\n\\nL’éléphant a au cours de sa vie 26 dents : deux incisives donnant les défenses et successivement trois prémolaires et trois molaires par demi mâchoire.\\nLa distinction des prémolaires et des molaires se justifie uniquement quand elles sont présentes en même temps sur la même mâchoire. Mais pour les éléphants modernes ce n’est généralement pas le cas (une ou deux dents fonctionnelles sont présentes en même temps) alors que pour les éléphants les plus primitifs, les fortes dents de lait molarisées sont suivies de molaires permanentes.\\n\\n\\n==== Défenses ====\\n\\nLes défenses sont formées par une extension des secondes incisives supérieures. Elles servent d’outil, d’arme de défense et d’attribut sexuel.\\nLes éléphanteaux développent de petites défenses décidues de 5 cm de long. Elles sont remplacées par des défenses permanentes vers l’âge de 6 à 12 mois. Les mâles et les femelles d’éléphant d‘Afrique portent des défenses alors que seuls les mâles des éléphants d’Asie en ont (ces variations ne sont pas indiquées dans la formule dentaire). Elles croissent toute leur vie d’environ 17 cm par an.\\nUne défense nouvellement développée a un capuchon en émail lisse qui finit par s\\'estomper. La dentine est connue sous le nom d\\'ivoire ; sa section transversale se compose de motifs de lignes entrecroisées qui créent des zones en forme de losange. Une grande partie des défenses est visible de l\\'extérieur ; le reste est enserré dans un logement du crâne. Au moins un tiers de la défense contient la pulpe et certains nerfs s\\'étendent jusqu\\'à la pointe. Il serait donc difficile de l\\'enlever sans nuire à l\\'animal. Une fois retiré, l\\'ivoire commence à se dessécher et à se fissurer s\\'il n\\'est pas conservé au frais et à l\\'humidité.\\nL\\'éléphant se sert de ses défenses à plusieurs fins. Il les utilise pour creuser dans l\\'eau, le sel ou parmi les racines; écorcer ou marquer les arbres ; déplacer des arbres et des branches pour dégager un chemin. Lors des combats, elles servent pour attaquer, se défendre, protéger le corps.\\nComme les humains, qui sont généralement droitiers ou gauchers, les éléphants ont généralement une différenciation des défenses droite et gauche. La défense dominante, appelée défense principale, est généralement plus usée et plus courte, avec une pointe plus arrondie. Pour les éléphants d\\'Afrique, les défenses sont présentes chez les mâles et les femelles, et ont à peu près la même longueur pour les deux sexes, atteignant jusqu\\'à trois mètres, mais celles des mâles ont tendance à être plus épaisses. Autrefois, les défenses d\\'éléphant pesant 100 kg et plus n\\'étaient pas rares, mais on n\\'en voit plus guère aujourd\\'hui dépassant 50 kg.\\nChez les espèces asiatiques, seuls les mâles ont de grandes défenses. Les femelles asiatiques ont de très petites défenses, voire aucune. Il existe des mâles dépourvus de défenses, particulièrement communs au Sri Lanka. Les mâles asiatiques peuvent avoir des défenses aussi longues que celles des africains, mais elles sont généralement plus minces et plus légères : les plus grandes enregistrées mesuraient 3,02 m de long et pesaient 39 kg. La chasse à l\\'ivoire d\\'éléphant en Afrique et en Asie a conduit à une sélection naturelle pour des défenses plus courtes, ou absentes,.\\n\\n\\n==== Dentition ====\\n\\nLes éléphants ont une croissance continue toute leur vie c’est pourquoi ils ont besoin d’avoir une zone de broyage dentaire des aliments qui croît aussi progressivement. Ceci peut se faire parce qu’ils produisent successivement six dents sur chaque côté des mâchoires (supérieures et inférieures) M1, puis M2..., puis M6 qui sont de plus en plus grosses. À chaque instant, il n’y qu’une ou deux dents (sur chaque demi mâchoire) qui soient en usage.\\nLes éléphants actuels ont un mode de substitution des dents très singulier: alors que les dents de la plupart des mammifères sont remplacées verticalement sur place (une dent de lait est remplacée par une dent définitive poussant en dessous), pour les éléphants modernes les molaires et prémolaires (dites dents jugales Mi, dents de la joue) suivent un déplacement horizontal vers l’avant, comme si elles dérivaient sur un « tapis roulant »,.\\n\\nLes dents M1, puis M2... puis M6 apparaissent successivement, avec une seule ou deux en service en même temps (soit Mi soit Mi et Mi+1 qui est en tain d’émerger), à chaque fois d’une taille plus grande que la précédente (Mi+1 > Mi). La nouvelle dent se développe dans un sac alvéolaire à l\\'arrière de la mâchoire et avance progressivement afin de repousser l’ancienne dent usée qui finit par se disloquer à l’avant de la mâchoire. Comme leur taille augmente, la mâchoire croît en même temps et la capacité de broyage des végétaux augmente.\\nAvec seulement quatre molaires dans la gueule, les éléphants peuvent mastiquer les quelque 200 kilos de végétaux dont il se nourrissent quotidiennement. Chaque dent est formée d’un empilement de lamelles d’émail remplies de dentine qui sont maintenues ensemble avec du cément. Chaque molaire successive Mi est plus grande que la précédente Mi-1 et contient un nombre égale ou supérieur de lamelles. Au fur et à mesure que Mi avance, elle monte hors de son alvéole et subie une usure lors de la mastication, les lamelles et les crêtes d’émail, de cément et de dentine s’érodent progressivement à des vitesses différentes\\nDes observations pertinentes avaient été déjà faites dès le milieu du XIXe siècle par Corse et de Blainville, « les éléphants (…) ont six paires de dents à chacune des mâchoires. Ces dents augmentent de volume depuis la première jusqu’à la dernière ou sixième, et le nombre de leurs lamelles (…) est aussi de plus en plus considérable. ». « Les dents se présentent deux par deux de chaque côté de l’une et de l’autre mâchoire ».\\nDiverses méthodes ont été développées pour identifier chacune des molaires. Dans les années 1960, Laws\\n et Sikes ont publié indépendamment deux études sur l’évaluation du vieillissement. Les deux techniques s’accordent à considérer que les critères d’évaluation des molaires doivent être basées sur la largeur et la longueur de la molaire complète et le nombre de lamelles présentes.\\nLa première molaire M1 de chaque demi mâchoire tombe lorsque l\\'éléphant a deux ou trois ans. Les deuxièmes molaires M2 tombent entre quatre et six ans. La troisième série tombe entre 9 et 15 ans et la quatrième série dure jusqu\\'à 18-28 ans. La cinquième série de dents tombe vers les 40 ans. La sixième (et généralement le dernière) M6 doit durer le reste de la vie de l’éléphant.\\n\\n\\n=== Peau ===\\nLa peau de l\\'éléphant est d\\'une épaisseur d\\'environ 2 cm. Cette peau est fragile du fait de la présence de plis où viennent se loger des parasites. Il n\\'y a pratiquement pas de poils, et il n\\'y a ni glande sudoripare, ni glande sébacée. De ce fait, leur peau est sèche, c\\'est pour cela qu\\'elle doit être souvent humectée à l\\'aide d\\'eau projetée par la trompe ou couverte de poussière ou de boue également projetée par leur trompe.\\nLa couleur de la peau est grisâtre ; cependant sa couleur apparente est liée au sol sur lequel évolue l\\'éléphant. Elle peut aussi être due aux bains de boues.\\nLa faible densité des poils (quelques centaines par mètre carré, chaque poil mesurant en moyenne deux centimètres de longueur et 0,5 mm de diamètre) agit non plus comme une fourrure mais participe — à hauteur de 23 % — avec d\\'autres mécanismes de thermorégulation (battement des oreilles, bains, pulvérisation d\\'eau avec leurs trompes, respiration percutanée) à la thermolyse du mammifère, les poils agissant comme des ailettes qui augmentent la surface d\\'échange et donc les transferts thermiques.\\n\\n\\t\\t\\n\\t\\t\\t\\n\\t\\t\\t\\n\\t\\t\\n\\t\\t\\n\\t\\t\\t\\n\\t\\t\\t\\n\\t\\t\\n\\t\\t\\n\\t\\t\\t\\n\\t\\t\\t\\n\\t\\t\\n\\n\\n=== Oreille ===\\nLes oreilles de l\\'éléphant lui permettent de réguler sa température corporelle, grâce à une vascularisation très importante. Lorsqu\\'il mange des fruits fermentés ayant un degré d\\'alcool d\\'environ 7°, l\\'éléphant remue violemment ses oreilles, de même pour sa queue et sa trompe. Elles sont généralement plus petites chez l\\'éléphant d\\'Asie, conformément à la règle d\\'Allen.\\n\\n\\n=== Cerveau ===\\nLe cerveau de l\\'éléphant, situé à l\\'arrière de son crâne, pèse entre 4 et 6 kg, ce qui est déjà considérable. Si l\\'on compare la taille du cerveau de l\\'éléphant à sa masse corporelle, il est alors le mammifère ayant le plus petit cerveau, alors que la souris possède le plus grand.\\n\\n\\n== Biologie et comportement ==\\n\\n\\n=== Reproduction ===\\n\\n\\n==== Maturité sexuelle ====\\nSi les fonctions reproductrices des éléphants mâles se mettent en place vers l\\'âge de 10-15 ans, ils commencent à se reproduire vers l\\'âge de 30 ans quand ils sont suffisamment imposants pour pouvoir se battre avec d\\'autres mâles pour conquérir les femelles.\\nLes fonctions reproductrices de l\\'éléphant femelle apparaissent de 9 ans jusqu\\'à 15 ans.\\nDans l\\'organisation matriarcale des éléphants, les mâles sont connus pour leur tempérament indépendant et ont tendance à vivre en solitaire, forgeant parfois une alliance provisoire avec un autre individu ou intégrant une bande de manière informelle. Tandis que les femelles entretiennent des liens familiaux étroits et solides.\\n\\n\\n==== Comportement sexuel ====\\n\\nLes mâles en rut, dont le taux sanguin de testostérone peut s\\'accroître cinquante fois, agitent les oreilles et secouent la tête, leur pénis devient vert. Il en dégouline une urine fortement odorante. Cela est dû à la libération d\\'un musc d’une phéromone, la frontaline, sécrétée sous deux formes chirales. Ces deux énantiomères (deux formes : (+)-frontaline et (-)-frontaline) ne sont pas sécrétés en mêmes proportions. Chez les jeunes mâles, la forme (+) domine. Au fur et à mesure de la maturité et de la période de rut, les deux isomères forment un racémique, qui attire les femelles en phase folliculaire et en œstrus. La frontaline est libérée par la glande temporale chez l’éléphant en période de rut, la sécrétion débute peu de temps avant la puberté, à l’âge de 15 ans. Cependant le rut ne se produit qu\\'à partir de 25 ans et ne durera que quelques jours. Puis vers 31-35 ans, celui-ci dure plusieurs semaines. Vers 36-40 ans, il dure de 1 à 2 mois. Pour finir, après 40 ans, le rut s’étend sur une période de 2 à 4 mois. La quantité de phéromones émises augmente avec l’âge de l’éléphant ainsi qu’en milieu de rut. La concentration et la proportion d’énantiomères de la frontaline constituent pour les animaux qui seront attentifs au message une source d’information sur l’âge et le stade du musth de l\\'éléphant qui émet. Une concentration de frontaline, en racémique, sera le synonyme d\\'un mâle mature ayant un statut social important.\\n\\n\\n==== Accouplement ====\\n\\nUne fois que la femelle et le mâle sont ensemble, l\\'accouplement peut commencer. L\\'éléphant mâle étant très lourd, la copulation est très rapide. En général, elle dure entre 20 et 30 secondes. La période de copulations dure environ trois jours.\\nLa jeune femelle est effrayée lors de sa première période de chaleur, le mâle peut la poursuivre. Pour avertir la femelle qu\\'il va la saillir, le mâle pose sa trompe sur son dos ; la femelle s\\'immobilise alors.\\nLes mâles passent dans les troupeaux de femelles lors de leur rut pour sentir les vulves des femelles.\\n\\n\\n==== Gestation et mise bas ====\\n\\nLa gestation d\\'une éléphante est la plus longue de tous les mammifères terrestres. Elle dure de 20 à 22 mois. La durée d\\'allaitement est comprise entre 36 et 48 mois. Les mises bas s\\'espacent d\\'environ 2 ans et demi à 5 ans. La gestation est plus longue pour un éléphanteau mâle que pour un éléphanteau femelle.\\nUne éléphante peut être en gestation jusqu\\'à l\\'âge de cinquante ans. Dans la plupart des cas, un seul éléphant est porté ; les cas de gémellité sont très rares.\\n\\n\\n=== Vie sociale ===\\n\\nLes éléphants vivent dans une société matriarcale. Cette structure matriarcale existe depuis plus de sept millions d\\'années, des empreintes d\\'une harde d\\'éléphants de cette époque ayant été découvertes sur une surface de 5 hectares sur le site de Mleisa 1 dans les Émirats arabes unis, faisant de cette piste de mammifères fossile la plus vieille de ce type et probablement la plus longue piste préservée dans le monde. Les troupeaux sont composés d\\'une dizaine d\\'éléphantes et de jeunes éléphanteaux, après la maturité sexuelle les mâles quittent le groupe. Ils errent jusqu\\'à ce qu\\'ils fassent alliance avec d\\'autres jeunes mâles.\\nUne étude, menée dans un zoo, montre que l\\'éléphant aime les fruits fermentés à un degré d\\'alcool de 7°. Lorsque l\\'éléphant est saoul, il perd de sa sociabilité (alors que sobre il est très sociable). Lorsqu\\'il est ivre, il reste à l\\'écart du troupeau. Un chercheur américain défendait l\\'idée que les animaux s\\'enivrent ou se droguent, volontairement, pour oublier les tourments de leur existence. Pour le prouver, il a fait vivre durant un mois des éléphants d\\'une réserve californienne sur un territoire plus restreint qu\\'à leur accoutumée. La surpopulation due au petit espace a angoissé les animaux qui, du coup, ont bu trois fois plus que d\\'habitude. Ils sont devenus si agressifs qu\\'il a été dangereux de les approcher.\\n\\n\\n=== Communication ===\\nLe cri de l\\'éléphant est le barrissement. De récentes études scientifiques ont montré que les éléphants, comme de nombreux animaux, sont sensibles aux infrasons. L\\'utilité de l\\'audition de ces infrasons reste cependant mystérieuse. Il semble qu\\'ils soient capables de communiquer entre eux par les ondes acoustiques de surface transmises par le sol.\\n\\n\\n=== Sommeil ===\\nLes éléphants peuvent dormir debout ou couchés. Le fait de se coucher indique qu\\'ils sont parfaitement détendus.\\n\\n\\n=== Alimentation ===\\n\\nL\\'éléphant est herbivore, il mange une grande variété d\\'éléments végétaux : herbes, plantes, feuilles, fruits, racines et tubercules, écorces et même du bois. Il apprécie par exemple le bois tendre et gorgé de sève du baobab.\\nLes besoins alimentaires de l\\'éléphant sont importants, surtout qualitativement. En fonction de son environnement, il consacre une grande partie de son temps à la recherche de nourriture (16 à 20 heures par jour), se déplaçant sur de longues distances et sélectionnant les aliments les plus riches. Il peut se dresser sur ses pattes arrière pour attraper avec sa trompe les rameaux les plus tendres jusqu\\'à cinq ou six mètres de hauteur.\\nQuotidiennement, il faut à l\\'éléphant entre 150 et 180 kilogrammes de nourriture en saison sèche, et entre 200 et 260 kilogrammes en saison des pluies. Ces quantités varient aussi en fonction des espèces et des milieux fréquentés.\\nUn éléphant adulte boit jusqu\\'à 140 L d\\'eau par jour. Il aspire dans sa trompe jusqu\\'à dix litres à la fois, puis se les verse dans la bouche. Il peut rester trois ou quatre jours sans boire. Il peut se servir de sa trompe pour reprendre de l\\'eau dans son estomac et s\\'en servir pour se rafraîchir la peau. Sa peau très épaisse est l\\'objet de soins constants : outre les aspersions, les baignades et les roulades dans la boue, le poudrage à la poussière est bienvenu pour protéger l\\'épiderme des insectes et du soleil.\\nMalgré la quarantaine de mètres d\\'intestin qu\\'il possède, sa digestion est peu efficace. Elle dure environ 12 heures après les 16 à 20 heures où il a cherché à se nourrir, 40 à 60 % de la nourriture n\\'étant pas digérée. Si son alimentation n\\'est pas suffisamment riche, son tonus, son humeur et sa santé en général sont rapidement affectés.\\nLe comportement alimentaire a en général un impact important sur le milieu. Le bilan de ces conséquences varie en fonction des espèces (Afrique, Asie), de la saison, du biotope et de la densité de la population. Ainsi, l\\'éléphant peut être considéré comme destructeur d\\'arbres en particulier dans la savane, alors qu\\'il participe ailleurs très activement à la régénération en limite des zones forestières. Certaines espèces d\\'arbres sont dépendantes de l\\'éléphant pour leur extension : celui-ci, friand de leurs fruits, en dissémine les graines avec l\\'excellent terreau que constitue son crottin, capable de contenir jusqu\\'à 35 % de graines.\\n\\n\\n=== Intelligence ===\\n\\nEn l’état actuel des connaissances, l’éléphant est, avec l\\'humain, le dauphin, le corbeau et certaines espèces de grands singes, l\\'une des rares espèces animales à réussir le test du miroir de Gallup : lorsqu’on marque d’une tache le front d’un éléphant en un point qu’il ne peut voir directement et qu’on lui présente un miroir, il passe sa trompe sur la tache ; démontrant ainsi qu’il a reconnu son image et donc qu’il a conscience de lui-même,,.\\nLes éléphants peuvent utiliser des outils de défense, telles des pierres saisies avec leur trompe et qu\\'ils lancent sur leurs ennemis. Ils peuvent également se toiletter en se grattant avec des branches ou des baguettes des parties de corps qu\\'ils ne peuvent atteindre avec leur trompe. Ils présentent ainsi un exemple d’utilisation d\\'outil par un animal.\\nLors d\\'une expérimentation de Preston Foerder, un éléphant (d\\'Asie, Elephas maximus) s\\'est montré capable d\\'un éclair de compréhension (insight). Il est allé chercher un cube pour monter dessus et atteindre de la nourriture,.\\n\\n\\n=== Perception ===\\nLes éléphants sont réputés pour leur capacité à anticiper l\\'arrivée des intempéries. il semblerait qu\\'ils soient capables d\\'entendre les sons provoqués par le déplacement des nuages.\\n\\n\\n== Systématique ==\\n\\n\\n=== Taxonomie ===\\n\\nL’éléphant d\\'Asie et l’éléphant d’Afrique ont longtemps été considérés comme les deux seules espèces représentant la famille des Éléphantidés à l’époque moderne. Depuis, de récentes études génétiques ont permis de distinguer deux sous-espèces africaines distinctes : Loxodonta africana africana (« éléphant de la savane ») et Loxodonta africana cyclotis (« éléphant des forêts »).\\nLes espèces d\\'Éléphantidés vivant à l’heure actuelle sont donc :\\n\\n\\n=== Histoire évolutive ===\\n\\nL’extinction Crétacé-Tertiaire est suivie d\\'une diversification très rapide des ongulés africains, notamment l\\'ordre des Proboscidiens dont les plus anciennes espèces découvertes à ce jour sont Eritherium azzouzorum et Phosphatherium escuilliei, datant de la fin du Paléocène il y a 60 millions d\\'années. Sans trompe mais avec une première incisive agrandie (rappelant la naissance d\\'une défense) et des orbites oculaires en position antérieure, ces premiers proboscidiens sont petits et graciles, ont un corps bas sur pattes et un mode de vie semi-aquatique, à l\\'instar de Moeritherium.\\nAprès un déclin à l\\'oligocène, les proboscidiens connaissent une diversification avec l\\'apparition des Deinotheriidae et des Mammutidae. La seconde radiation évolutive voit l\\'émergence au début du Miocène des Gomphotheriidae qui sont à l\\'origine des Elephantidae et des Stegodontidae, familles qui correspondent à la troisième radiation évolutive au miocène supérieur.\\nLes Proboscidiens présents sur le continent américain, tels Mammut americanum ou Haplomastodon, se sont éteints il y a une dizaine de milliers d\\'années.\\n\\n\\n== L\\'éléphant et l\\'homme ==\\n\\n\\n=== Menaces de disparition ===\\n\\n\\n==== Chasse et braconnage ====\\n\\nDurant des millénaires, l\\'homme chassa l\\'éléphant pour sa consommation et pour le commerce de l\\'ivoire tiré des défenses. Durant l\\'Antiquité, les éléphants de Nubie furent utilisés dans les armées des Carthaginois. Au XVe siècle av. J.-C., il y avait encore des éléphants sur les bords de l\\'Euphrate, où le pharaon Thoutmôsis Ier chassait l\\'éléphant.\\nLa population des éléphants africains et asiatiques a été décimée, passant de plusieurs millions d\\'individus au début des années 1970 à quelques centaines de milliers 30 ans plus tard. Si bien qu\\'en 1989, la CITES interdit le commerce de l\\'ivoire. Les éléphants sont désormais considérés comme des espèces protégées et la chasse aux éléphants est très réglementée.\\nLe braconnage s\\'intensifie malheureusement chaque année. En 2011, entre 25 000 et 30 000 éléphants ont été abattus sauvagement afin de récupérer leurs défenses et alimenter les commerces illégaux notamment en provenance d\\'Asie.\\nL\\'éléphant a peu de prédateurs naturels, c\\'est-à-dire d\\'autres espèces que l\\'Homme. De grands fauves tels que le lion ou le tigre du Bengale (dans le cas de l\\'éléphant d\\'Asie) peuvent exercer une prédation sur les individus jeunes ou faibles ; il est cependant peu probable que ces animaux attaquent un adulte, au vu du danger qu\\'il peut représenter.\\nSelon l’Union internationale pour la conservation de la nature (UICN), la population des éléphants d’Afrique a sensiblement diminué au cours des années 2010 : le continent compte en 2019 environ 415 000 spécimens, soit 111 000 de moins que lors de la précédente décennie.\\n\\n\\n==== L\\'éléphant des forêts africaines menacé d\\'extinction d\\'ici 2025 ====\\nAu terme de la conférence organisée à Bangkok du 3 au 14 mars 2013, par la CITES, à laquelle 178 pays ont participé, l\\'état d\\'esprit était au pessimisme concernant la protection des éléphants « victimes dans leurs pays d\\'origine d\\'un braconnage sans précédent et d\\'un commerce effréné en Asie ». Nombre d\\'ONG concernées par cette action pensent que « la communauté internationale a échoué à protéger les éléphants ». Depuis 2007 le trafic d\\'ivoire a doublé et plus que triplé par rapport à 1998. Le nombre d\\'éléphants africains, selon les enquêtes présentées à la conférence, est compris entre 420 000 et 650 000. 25 000 ont été tués en 2011 et probablement 30 000 en 2012. Publiée en mars 2013 dans la revue PLoS One, une autre étude révèle que 62 % des éléphants des forêts ont été abattus durant ces dix dernières années. Si ce rythme perdure, ils pourraient disparaitre d\\'Afrique centrale d\\'ici 2025. Les spécialistes affirment qu\\'à terme, si le braconnage ne cesse pas, tous les éléphants du continent seront menacés d\\'extinction.\\n\\nÀ Gembloux Agro-Bio Tech - Université de Liège en Belgique, plusieurs chercheurs avaient déjà fait le même constat pour la population des éléphants de l\\'Afrique de l\\'Ouest. En 40 ans, leur nombre a diminué de moitié.\\nL\\'ONG Save the Elephants estime que le commerce illégal de l\\'ivoire à Hong Kong menace la survie des éléphants, étant donné que le marché de l\\'ivoire en Chine et en Asie du Sud-Est passe en grande partie par Hong Kong.\\n\\n\\n=== Perte d\\'habitat ===\\n\\nL\\'augmentation des risques de conflits d\\'intérêts pour l\\'habitat avec des populations humaines menace la survie de l\\'éléphant. Ce conflit tue 150 éléphants et un peu plus de 100 personnes par an au Sri Lanka. Contrairement à son cousin d\\'Afrique, l\\'éléphant d\\'Asie, possède de petites défenses. La disparition de celui-ci est principalement attribuée à la perte de son habitat. De grands morceaux de forêt disparaissent, ce qui touche profondément leur écosystème. Les arbres contribuent à l\\'ancrage du sol et l\\'absorption des eaux de ruissellement. La déforestation entraine des inondations et une érosion massive. Lorsque la forêt est réduite, les éléphants deviennent une partie du problème, car ils détruisent rapidement la végétation de la zone où ils vivent et éliminent toutes les ressources en nourriture.\\n\\n\\n=== Parcs nationaux ===\\n\\nLa première réserve officielle, Parc national Kruger, est peut-être la plus connue des réserves et celle ayant obtenu le plus grand succès. Cependant, de nombreux problèmes sont apparus depuis sa création. Les clôtures de la réserve ont coupé de nombreux animaux de leur alimentation en hiver ou de leurs zones de reproduction au printemps. Certains animaux sont morts, alors que d\\'autres comme les éléphants ont démoli les clôtures, entraînant des ravages dans les champs voisins. Lorsque les éléphants sont limités à un petit territoire, les dégâts infligés au paysage peuvent être énormes.\\nDe ce fait, certaines réserves, comme le Parc national Kruger, de l\\'avis de certains gestionnaires de faune sauvage, ont souffert de la surpopulation des éléphants, au détriment d\\'autres espèces de la faune dans la réserve. Le 25 février 2008, l\\'Afrique du Sud a annoncé que l\\'abattage pour contrôler le nombre d\\'éléphants, arrêté depuis 1994, reprendrait. Les défenseurs des droits des animaux ont menacé d\\'un appel au boycott par les touristes et à d\\'autres formes d\\'oppositions.\\n\\n\\n=== Utilisation par l\\'Homme ===\\n\\nLes éléphants en captivité (en) sont utilisés ou exhibés dans les cirques, ménageries (tel Abul-Abbas, l\\'éléphant blanc de Charlemagne et Hanno, celui du pape Léon X) et zoos (tel le célèbre Jumbo). On ne peut pas parler à leur égard de domestication car le cycle de vie de l\\'éléphant est trop long pour que cela soit économiquement rentable par rapport à une capture d\\'individus sauvages, la phase précédant la maturité sexuelle de l\\'animal durant plus de 10 ans.\\n\\nUtilisé comme animal de trait par les humains, ainsi que lors de batailles en tant qu\\'éléphant de guerre, l\\'éléphant a occupé de nombreuses fonctions, notamment celle d\\'exécuteur lors d\\'exécutions par éléphant. En 1914-1918, des éléphants de cirque ont en Europe par exemple servi à débarder le bois en forêt (de Mormal, dans le Nord de la France), ou encore à labourer, ou à tirer des wagons dans les usines de munitions.\\nL\\'éléphant peut également être dressé par anéantissement.\\nLe conducteur d\\'un éléphant est appelé cornac ou mahout.\\n\\n\\n=== Expression ===\\n“avoir une mémoire d’éléphant” veut dire que l’on a une très bonne mémoire\\n\\n\\n=== Produits dérivés ===\\n\\nÀ l\\'origine, les éléphants étaient chassés par les hommes pour leur viande.\\nCertaines parties, comme les pieds d\\'éléphants, ou des animaux entiers étaient naturalisés. Les poils et les défenses d\\'ivoire, bien sûr, étaient aussi utilisés. On s\\'en servait pour fabriquer des objets de décoration et en bijouterie, ou bien ils étaient destinés, ainsi que les dents et les ossements, à des cabinets de curiosité ou des museums.\\nL\\'ivoire a longtemps fait l\\'objet d\\'un commerce important qui subsiste encore parfois sous forme de trafic illégal malgré le statut de protection dont bénéficient les éléphants survivants.\\n\\n\\n=== Culture ===\\n\\n\\n==== Symbolique ====\\nDans la symbolique occidentale comme orientale, l\\'éléphant est associé à la mémoire, la sagesse, la longévité, la prospérité, la bienveillance, le père. Pour beaucoup de peuples africains, l\\'éléphant tient le rôle du père, du chef des animaux, du roi.\\n\\n\\n===== Orient =====\\n\\nL\\'éléphant apparaît dans la panthéon hindouiste et bouddhiste à partir du troisième millénaire avant Jésus-Christ, époque de sa domestication.\\nDans la religion hindoue, Ganesh est un dieu à tête d’éléphant ; il est le dieu de la Sagesse et le patron des étudiants. Les rares éléphants blancs sont les plus sacrés en Inde, et les éléphants domestiqués et décorés aux couleurs des dieux bénissent les fidèles de leur trompe dans certains temples.\\nEn Inde, l’éléphant évoque la force, la puissance, l\\'orage (forme ronde et grise des nuages de pluie), et il est sacré. Chaque dieu hindou chevauche un animal : Indra, dieu des Orages et de la Bataille, et Agni, dieu du Feu, se déplacent à dos d’éléphant.\\nAu Laos, passer sous la trompe d\\'un éléphant permet d\\'acquérir ses attributs : force, longévité, fertilité et caractère sacré. Chaque année à l\\'occasion du Nouvel An bouddhique, les cornacs laotiens organisent un baci ou soukhouan, cérémonie de rappel des âmes, pour leur éléphant.\\n\\n\\n===== Islam =====\\nDans le Coran, la 105e sourate (la 19e dans l’ordre chronologique) s\\'intitule Al-Fîl (l’Éléphant). Elle comprend cinq versets révélés à la Mecque et doit son nom à l’expression « ashâb al-fîl » (les gens de l’éléphant) présente dans le tout premier verset. Cette expression désigne les Abyssins, qui occupaient le Yémen voisin, voulaient évangéliser l’Arabie tout entière, notamment en attaquant la Kaaba, à La Mecque. En raison des entraves qu’ils mettaient au pèlerinage, le « ministre du calendrier » dans le gouvernement mecquois se vengea en profanant l’église de Sana\\'a. C’est alors que le gouverneur abyssin fit venir un éléphant de taille gigantesque appelé Mahmoud et dirigea une expédition sur La Mecque.\\n\\n\\n===== Occident =====\\nDans la symbolique chrétienne, l\\'éléphant symbolise le baptême : la femelle met bas dans l\\'eau d\\'un étang à côté duquel le mâle monte la garde pour écarter le dragon, symbole de l\\'esprit du mal.[réf. nécessaire]\\nDans la symbolique chrétienne, il représente aussi la chasteté (de tempérament frigide, il ne peut engendrer qu\\'après avoir absorbé, en guise d\\'aphrodisiaque, une racine de mandragore), la constance, la maîtrise de soi, la bénignité des princes (il n\\'a pas de fiel), la tempérance, la circonspection et la prudence.[réf. nécessaire]\\nEn France, on dit de quelqu\\'un qui a une bonne mémoire qu\\'il a « une mémoire d\\'éléphant » ; effectivement, l\\'éléphant a une excellente mémoire pour se rappeler ses congénères ou retrouver les pistes qu\\'il emprunte chaque année pour chercher sa nourriture. Sa mémoire visuelle lui permet également de se rappeler très longtemps les visages humains[source insuffisante].\\nL\\'éléphant représente les quatre piliers du monde : il porte le monde sur son dos.\\nL\\'éléphant est le symbole de la ville de Catane, en Italie, depuis le Moyen Âge (mais le lien remonte peut-être à l\\'Antiquité). La Fontaine de l\\'éléphant s\\'y dresse sur la place de la cathédrale.\\n\\n\\n===== Afrique =====\\nL\\'éléphant est l\\'emblème de la Côte d\\'Ivoire.\\nL\\'éléphant est symbole de royauté, de puissance et de sagesse et ce en général pour les peuples de tout le continent africain.\\nSon image est utilisée dans les cérémonies et danses, pour la fabrication des masques ou encore de mobiliers, d\\'objets rituels, dans beaucoup de tribus notamment chez les Bamileke de l\\'ouest du Cameroun ou encore chez les Gurusi du Burkina Faso.\\nHors tribus, l\\'éléphant est un symbole important au même titre que le lion et son image est présente au quotidien dans le monde africain.\\n\\n\\n===== Politique =====\\nEn politique, l\\'image de l\\'éléphant a pu être utilisé dans différents pays pour caractériser des courants politiques ou des politiciens : ainsi, l\\'emblème du Parti républicain américain est un éléphant, et certains des membres les plus influents du Parti socialiste français sont surnommés les « éléphants ».\\n\\n\\n===== Art =====\\n\\nDes représentations picturales de l\\'éléphant sont retrouvées en Occident dès le XIIe siècle comme dans le quartier historique de Montferrand sur la « Maison de l\\'Éléphant » (12 rue Kléber).\\nL\\'ivoire des défenses de l\\'éléphant a longtemps servi à la réalisation d\\'œuvres d\\'art. Les œuvres en or et ivoire sont qualifiées de chryséléphantines — chrusos, or en grec. Ce nom a été déformé en olifant, pour désigner une corne (instrument de musique) en ivoire.\\n\\n\\n===== Sport =====\\nEn sport, certaines équipes nationales portent des surnoms à l\\'image de l\\'éléphant :\\n\\nLa Côte d\\'Ivoire : Les éléphants\\nLa Guinée : Le Sily national (L\\'éléphant national)\\nLa Thaïlande : Les éléphants de guerre\\n\\n\\n==== Fiction ====\\n\\nLes éléphants ont inspiré de nombreux artistes. La liste ci-après est loin d\\'être exhaustive.\\n\\nCinéma :\\nLes Racines du ciel (The Roots of Heaven) de John Huston (1958), tiré du roman de Romain Gary.\\nTusk d\\'Alejandro Jodorowsky (1980).\\nChasseur blanc, cœur noir (White Hunter Black Heart) de Clint Eastwood (1990, inspiré par John Huston, chasseur d\\'éléphant sur le tournage de the African Queen en 1950).\\nSunny et l\\'éléphant de Frédéric Lepage, 2008.\\nDe l\\'eau pour les éléphants de Francis Lawrence, 2011, tiré du roman de Sara Gruen.\\nElephant Boy de Robert J. Flaherty en 1937\\nGrimsby : Agent trop spécial de Louis Leterrier (2016), Norman \"Nobby\" Butcher (Sacha Baron Cohen) se cache dans le vagin d\\'une éléphante.\\nDocumentaire\\nL\\'Homme et l’Éléphant de Vijay Singh.\\nDessins animés :\\nDumbo.\\nWinnie l\\'ourson et l\\'Éfélant\\nBabar\\nLittérature :\\nLes Racines du ciel de Romain Gary, Prix Goncourt en 1956.\\nLes Annales du disque-monde de Terry Pratchett (le disque-monde est soutenu par quatre éléphants géants).\\nL\\'Éléphant et le Singe de Jupiter de Jean de La Fontaine.\\nLe Voyage de l\\'éléphant de José Saramago\\nLittérature jeunesse :\\nHistoires comme ça de Rudyard Kipling (L\\'Enfant d\\'éléphant)\\nPoo Lorn l\\'éléphant de Reginald Campbell\\nLe Livre de la jungle de Rudyard Kipling (personnages de Hathi et de Kala Nag).\\nBabar de Laurent de Brunhoff\\nUn éléphant ça compte énormément de Helme Heine\\nLe Mystère de l\\'éléphant bleu de Enid Blyton\\nLa Maison éléphant de Henriette Bichonnier\\n Elmer, l\\'éléphant bariolé de David McKee\\nPomelo, l\\'éléphant rose, texte de Ramona Bádescu, illustrations de Benjamin Chaud : une quinzaine de titres, depuis 2002. Plusieurs de ces titres font partie de la « Bibliothèque jeunesse idéale » du Centre national de la littérature pour la jeunesse (BnF).\\n\\n\\t\\t\\n\\t\\t\\t\\n\\t\\t\\t\\n\\t\\t\\n\\t\\t\\n\\t\\t\\t\\n\\t\\t\\t\\n\\t\\t\\n\\n\\n== Notes et références ==\\n\\n\\n=== Notes ===\\n\\n\\n=== Références ===\\n\\n\\n== Annexes ==\\n\\n\\n=== Bibliographie ===\\nElephants: Majestic Creatures of the Wild, Checkmark Books, 2000 (ISBN 978-0-87596-143-9, OCLC 475147472)\\n\\n\\n=== Articles connexes ===\\nBouse d\\'éléphant\\nIntelligence animale\\nÉléphant de guerre\\nHanno\\nListe d\\'éléphants de fiction\\nOrdre de l’Éléphant\\nMammouphant\\nBraconnage\\nÉléphant rose\\nSamuel Lockhart\\n\\n\\n=== Références taxonomiques ===\\n(en) Référence Mammal Species of the World (3e  éd., 2005) : Elephas maximus \\n(fr + en) Référence ITIS : genre Loxodonta Cuvier, 1825\\n(en) Référence Animal Diversity Web : Elephas maximus\\n(en) Référence UICN : espèce Elephas maximus Linnaeus, 1758\\n(en) Référence NCBI : genre Loxodonta (taxons inclus)\\n(en) Référence Fonds documentaire ARKive : Loxodonta africana \\n(en) Référence Fonds documentaire ARKive : Elephas maximus \\n\\n\\n=== Liens externes ===\\n\\nAnalyse des instruments internationaux de lutte contre le trafic et le braconnage des espèces menacées en Afrique centrale : le cas de l\\'éléphant et du gorille\\n« Physiologie de l\\'éléphant », sur elephants.free.fr\\nUn dossier sur l\\'éléphant chez Futura-Sciences\\n\\n Portail des mammifères'"
            ],
            "application/vnd.google.colaboratory.intrinsic+json": {
              "type": "string"
            }
          },
          "metadata": {},
          "execution_count": 47
        }
      ]
    },
    {
      "cell_type": "markdown",
      "metadata": {
        "id": "EZkmNJ7XO9xX"
      },
      "source": [
        "We need to clean this up a bit. Let us remove all the special characters and keep only 26 letters and space. Note that this will remove accented characters in French also. We are also removing all the numbers and spaces. So this is not an ideal solution."
      ]
    },
    {
      "cell_type": "code",
      "metadata": {
        "id": "e5yf5P9pPI4t"
      },
      "source": [
        "def cleanup(text):\n",
        "  text = text.lower()  # make it lowercase\n",
        "  text = re.sub('[^a-z]+', '', text) # only keep characters\n",
        "  return text"
      ],
      "execution_count": 48,
      "outputs": []
    },
    {
      "cell_type": "code",
      "metadata": {
        "id": "qrOjC32fRuTK"
      },
      "source": [
        "eng1 = cleanup(eng1)\n",
        "eng2 = cleanup(eng2)\n",
        "fr1 = cleanup(fr1)\n",
        "fr2 = cleanup(fr2)"
      ],
      "execution_count": 49,
      "outputs": []
    },
    {
      "cell_type": "code",
      "metadata": {
        "id": "rIdqvL2G-LqL",
        "colab": {
          "base_uri": "https://localhost:8080/"
        },
        "outputId": "7ffd6d39-e5d7-4c22-921b-c87ef0ede354"
      },
      "source": [
        "print(eng1)"
      ],
      "execution_count": 50,
      "outputs": [
        {
          "output_type": "stream",
          "name": "stdout",
          "text": [
            "thegiraffeisalargeafricanhoofedmammalbelongingtothegenusgiraffaitisthetallestlivingterrestrialanimalandthelargestruminantonearthtraditionallygiraffeshavebeenthoughtofasonespeciesgiraffacamelopardaliswithninesubspeciesmostrecentlyresearchersproposeddividingthemintouptoeightextantspeciesduetonewresearchintotheirmitochondrialandnucleardnaandindividualspeciescanbedistinguishedbytheirfurcoatpatternssevenotherextinctspeciesofgiraffaareknownfromthefossilrecordthegiraffeschiefdistinguishingcharacteristicsareitsextremelylongneckandlegsitshornlikeossiconesanditsspottedcoatpatternsitisclassifiedunderthefamilygiraffidaealongwithitsclosestextantrelativetheokapiitsscatteredrangeextendsfromchadinthenorthtosouthafricainthesouthandfromnigerinthewesttosomaliaintheeastgiraffesusuallyinhabitsavannahsandwoodlandstheirfoodsourceisleavesfruitsandflowersofwoodyplantsprimarilyacaciaspecieswhichtheybrowseatheightsmostotherherbivorescannotreachlionsleopardsspottedhyenasandafricanwilddogsmaypreyupongiraffesgiraffesliveinherdsofrelatedfemalesandtheiroffspringorbachelorherdsofunrelatedadultmalesbutaregregariousandmaygatherinlargeaggregationsmalesestablishsocialhierarchiesthroughneckingcombatboutswheretheneckisusedasaweapondominantmalesgainmatingaccesstofemaleswhichbearsoleresponsibilityforrearingtheyoungthegiraffehasintriguedvariousancientandmodernculturesforitspeculiarappearanceandhasoftenbeenfeaturedinpaintingsbooksandcartoonsitisclassifiedbytheinternationalunionforconservationofnatureiucnasvulnerabletoextinctionandhasbeenextirpatedfrommanypartsofitsformerrangegiraffesarestillfoundinnumerousnationalparksandgamereservesbutestimatesasofindicatethereareapproximatelymembersofgiraffainthewildmorethanwerekeptinzoosinetymologythenamegiraffehasitsearliestknownoriginsinthearabicwordzarfahultimatelyfrompersianzurnpacompoundofzurnflutezurnaandpleginearlymodernenglishthespellingsjarrafandziraphwereusedprobablydirectlyfromthearabicandinmiddleenglishjarrafandziraphgerfauntztheitalianformgiraffaaroseinthesthemodernenglishformdevelopedaroundfromthefrenchgirafecamelopardisanarchaicenglishnameforthegiraffeitderivesfromtheancientgreekkamloprdalisfromkmloscamelandprdalisleopardreferringtoitscamellikeshapeandleopardlikecolourationtaxonomyevolutionthegiraffeisoneofonlytwolivinggeneraofthefamilygiraffidaeintheorderartiodactylatheotherbeingtheokapitheyareruminantsofthecladepecoraalongwithantilocapridaepronghornscervidaedeerbovidaecattleantelopegoatsandsheepandmoschidaemuskdeeragenomestudycladogrambelowfindsthatgiraffidaeareasistertaxontoantilocapridaewithanestimatedsplitofovermillionyearsagothefamilygiraffidaewasoncemuchmoreextensivewithoverfossilgeneradescribedtheelongationoftheneckappearstohavestartedearlyinthegiraffelineagecomparisonsbetweengiraffesandtheirancientrelativessuggestvertebraeclosetotheskulllengthenedearlierfollowedbylengtheningofvertebraefurtherdownoneearlygiraffidancestorwascanthumeryxwhichhasbeendatedvariouslytohavelivedtomillionyearsagomyaormyaandwhosedepositshavebeenfoundinlibyathisanimalresembledanantelopeandhadamediumsizedlightlybuiltbodygiraffokeryxappearedmyaontheindiansubcontinentandresembledanokapiorasmallgiraffeandhadalongerneckandsimilarossiconesgiraffokeryxmayhavesharedacladewithmoremassivelybuiltgiraffidslikesivatheriumandbramatheriumgiraffidslikepalaeotragusshansitheriumandsamotheriumappearedmyaandlivedthroughoutafricaandeurasiatheseanimalshadbroaderskullswithreducedfrontalcavitiespaleotragusresembledtheokapiandmayhavebeenitsancestorothersfindthattheokapilineagedivergedearlierbeforegiraffokeryxsamotheriumwasaparticularlyimportanttransitionalfossilinthegiraffelineageasthelengthandstructureofitscervicalvertebraewerebetweenthoseofamoderngiraffeandanokapianditsneckposturewaslikelysimilartotheformersbohliniawhichfirstappearedinsoutheasterneuropeandlivedmyawaslikelyadirectancestorofthegiraffebohliniacloselyresembledmoderngiraffeshavingalongneckandlegsandsimilarossiconesanddentitionbohliniacolonisedchinaandnorthernindiaandproducedthegiraffawhicharoundmillionyearsagoreachedafricaclimatechangesledtotheextinctionoftheasiangiraffeswhiletheafricangiraffessurvivedandradiatedintonewspecieslivinggiraffesappeartohavearisenaroundmillionyearsagoineasternafricaduringthepleistocenesomebiologistssuggestthemoderngiraffesdescendedfromgjumaeothersfindggracilisamorelikelycandidategjumaewaslargerandmorerobustwhileggraciliswassmallerandmoreslenderthechangesfromextensiveforeststomoreopenhabitatswhichbeganmyaarebelievedtobethemaindriverfortheevolutionofgiraffesduringthistimetropicalplantsdisappearedandwerereplacedbyaridcplantsandadrysavannahemergedacrosseasternandnorthernafricaandwesternindiasomeresearchershavehypothesisedthatthisnewhabitatcoupledwithadifferentdietincludingacaciaspeciesmayhaveexposedgiraffeancestorstotoxinsthatcausedhighermutationratesandahigherrateofevolutionthecoatpatternsofmoderngiraffesmayalsohavecoincidedwiththesehabitatchangesasiangiraffesarehypothesisedtohavehadmoreokapilikecolourationsthegiraffegenomeisaroundbillionbasepairsinlengthcomparedtothebillionbasepairsoftheokapioftheproteinsingiraffeandokapigenesareidenticalthedivergenceofgiraffeandokapilineagesdatestoaroundmyaasmallgroupofregulatorygenesinthegiraffeappeartoberesponsiblefortheanimalsheightandassociatedcirculatoryadaptationsspeciesandsubspeciestheinternationalunionforconservationofnatureiucncurrentlyrecognisesonlyonespeciesofgiraffewithninesubspeciescarllinnaeusoriginallyclassifiedlivinggiraffesasonespeciesinhegaveitthebinomialnamecervuscamelopardalismathurinjacquesbrissoncoinedthegenericnamegiraffainduringthesvarioustaxonomieswithtwoorthreespecieswereproposedastudyonthegeneticsofgiraffesusingmitochondrialdnasuggestedatleastsixlineagescouldberecognisedasspeciesastudyusingdetailedanalysesofthemorphologyofgiraffesandapplicationofthephylogeneticspeciesconceptdescribedeightspeciesoflivinggiraffesastudyalsoconcludedthatlivinggiraffesconsistofmultiplespeciestheresearcherssuggestedtheexistenceoffourspecieswhichhavenotexchangedgeneticinformationbetweeneachotherfortomillionyearsastudyshowedthatdependingonthemethodchosendifferenttaxonomichypothesesrecognizingfromtwotosixspeciescanbeconsideredforthegenusgiraffathatstudyalsofoundthatmultispeciescoalescentmethodscanleadtotaxonomicoversplittingasthosemethodsdelimitgeographicstructuresratherthanspeciesthethreespecieshypothesiswhichrecognisesgcamelopardalisggiraffaandgtippelskirchiishighlysupportedbyphylogeneticanalysesandalsocorroboratedbymostpopulationgeneticandmultispeciescoalescentanalysesawholegenomesequencingstudysuggeststheexistenceoffourdistinctspeciesandsevensubspeciesastudyfoundahigheramountofancientgeneflowthanexpectedbetweenpopulationsthecladogrambelowshowsthephylogeneticrelationshipbetweenthefourproposedspeciesandsevensubspeciesbasedonagenomeanalysisnotetheeightlineagescorrespondtoeightofthetraditionalsubspeciesintheonespecieshypothesistherothschildgiraffeissubsumedintogcamelopardaliscamelopardalisthefollowingtablecomparesthedifferenthypothesesforgiraffespeciesthedescriptioncolumnshowsthetraditionalninesubspeciesintheonespecieshypothesisthefirstextinctspeciestobedescribedwasgiraffasivalensisfalconerandcautleyareevaluationofavertebrathatwasinitiallydescribedasafossilofthelivinggiraffewhiletaxonomicopinionmaybelackingonsomenamestheextinctspeciesthathavebeenpublishedincludegiraffagracilisgiraffajumaegiraffapomeligiraffapriscillagiraffapunjabiensisgiraffapygmaeagiraffasivalensisgiraffastilleianatomyfullygrowngiraffesstandmfttallwithmalestallerthanfemalestheaverageweightiskglbforanadultmaleandkglbforanadultfemaledespiteitslongneckandlegsitsbodyisrelativelyshorttheskinismostlygrayortanandcanreachathicknessofmminthecminlongtailendsinalongdarktuftofhairandisusedasadefenseagainstinsectsthecoathasdarkblotchesorpatcheswhichcanbeorangechestnutbrownornearlyblacksurroundedbylighthairusuallywhiteorcreamcolouredmalegiraffesbecomedarkerastheygrowoldthecoatpatternhasbeenclaimedtoserveascamouflageinthelightandshadepatternsofsavannahwoodlandswhenstandingamongtreesandbushestheyarehardtoseeatevenafewmetresdistancehoweveradultgiraffesmoveabouttogainthebestviewofanapproachingpredatorrelyingontheirsizeandabilitytodefendthemselvesratherthanoncamouflagewhichmaybemoreimportantforcalveseachgiraffehasauniquecoatpatterncalvesinheritsomecoatpatterntraitsfromtheirmothersandvariationinsomespottraitsiscorrelatedwithcalfsurvivaltheskinundertheblotchesmayregulatetheanimalsbodytemperaturebeingsitesforcomplexbloodvesselsystemsandlargesweatglandsspotlessorsolidcolorgiraffesareveryrarebuthavebeenobservedthefurmaygivetheanimalchemicaldefenseasitsparasiterepellentsgiveitacharacteristicscentatleastmainaromaticchemicalsareinthefuralthoughindoleandmethylindoleareresponsibleformostofthesmellbecausemaleshaveastrongerodourthanfemalesitmayalsohaveasexualfunctionheadbothsexeshaveprominenthornlikestructurescalledossiconeswhichcanreachcmintheyareformedfromossifiedcartilagecoveredinskinandfusedtotheskullattheparietalbonesbeingvascularisedtheossiconesmayhavearoleinthermoregulationandareusedincombatbetweenmalesappearanceisareliableguidetothesexorageofagiraffetheossiconesoffemalesandyoungarethinanddisplaytuftsofhairontopwhereasthoseofadultmalestendtobebaldandknobbedontopalumpwhichismoreprominentinmalesemergesinthemiddleoftheskullmalesdevelopcalciumdepositsthatformbumpsontheirskullsastheyagemultiplesinuseslightenagiraffesskullhoweverasmalesagetheirskullsbecomeheavierandmoreclublikehelpingthembecomemoredominantincombattheoccipitalcondylesatthebottomoftheskullallowtheanimaltotipitsheadoverdegreesandgrabfoodonthebranchesdirectlyabovethemwiththetonguewitheyeslocatedonthesidesoftheheadthegiraffehasabroadvisualfieldfromitsgreatheightcomparedtootherungulatesgiraffevisionismorebinocularandtheeyesarelargerwithagreaterretinalsurfaceareagiraffesmayseeincolourandtheirsensesofhearingandsmellaresharptheearsaremovableandthenostrilsareslitshapedpossiblytowithstandblowingsandthegiraffestongueisaboutcminlongitisblackperhapstoprotectagainstsunburnandcangraspfoliageanddelicatelypickoffleavestheupperlipisflexibleandhairytoprotectagainstsharppricklestheupperjawhasahardpalateinsteadoffrontteeththemolarsandpremolarsarewidewithlowcrownsonthesurfaceneckthegiraffehasanextremelyelongatedneckwhichcanbeuptomftininlengthalongtheneckisamanemadeofshorterecthairsthenecktypicallyrestsatanangleofdegreesthoughjuvenilesareclosertodegreesthelongneckresultsfromadisproportionatelengtheningofthecervicalvertebraenotfromtheadditionofmorevertebraeeachcervicalvertebraisovercminlongtheycomprisepercentofthelengthofthegiraffesvertebralcolumncomparedwiththepercenttypicalofsimilarlargeungulatesincludingthegiraffesclosestlivingrelativetheokapithiselongationlargelytakesplaceafterbirthperhapsbecausegiraffemotherswouldhaveadifficulttimegivingbirthtoyoungwiththesameneckproportionsasadultsthegiraffesheadandneckareheldupbylargemusclesandanuchalligamentwhichareanchoredbylongthoracicvertebraespinesgivingthemahumpthegiraffesneckvertebraehaveballandsocketjointsthepointofarticulationbetweenthecervicalandthoracicvertebraeofgiraffesisshiftedtoliebetweenthefirstandsecondthoracicvertebraetandtunlikeinmostotherruminantswherethearticulationisbetweentheseventhcervicalvertebracandtthisallowsctocontributedirectlytoincreasednecklengthandhasgivenrisetothesuggestionthattisactuallycandthatgiraffeshaveaddedanextracervicalvertebrahoweverthispropositionisnotgenerallyacceptedasthasothermorphologicalfeaturessuchasanarticulatingribdeemeddiagnosticofthoracicvertebraeandbecauseexceptionstothemammalianlimitofsevencervicalvertebraearegenerallycharacterisedbyincreasedneurologicalanomaliesandmaladiesthereareseveralhypothesesregardingtheevolutionaryoriginandmaintenanceofelongationingiraffeneckscharlesdarwinoriginallysuggestedthecompetingbrowsershypothesiswhichhasbeenchallengedonlyrecentlyitsuggeststhatcompetitivepressurefromsmallerbrowserslikekudusteenbokandimpalaencouragedtheelongationoftheneckasitenabledgiraffestoreachfoodthatcompetitorscouldnotthisadvantageisrealasgiraffescananddofeeduptomfthighwhileevenquitelargecompetitorssuchaskuducanfeeduptoonlyaboutmftinhighthereisalsoresearchsuggestingthatbrowsingcompetitionisintenseatlowerlevelsandgiraffesfeedmoreefficientlygainingmoreleafbiomasswitheachmouthfulhighinthecanopyhoweverscientistsdisagreeaboutjusthowmuchtimegiraffesspendfeedingatlevelsbeyondthereachofotherbrowsersandastudyfoundthatadultgiraffeswithlongernecksactuallysufferedhighermortalityratesunderdroughtconditionsthantheirshorterneckedcounterpartsthisstudysuggeststhatmaintainingalongerneckrequiresmorenutrientswhichputslongerneckedgiraffesatriskduringafoodshortageanothertheorythesexualselectionhypothesisproposesthelongnecksevolvedasasecondarysexualcharacteristicgivingmalesanadvantageinneckingcontestsseebelowtoestablishdominanceandobtainaccesstosexuallyreceptivefemalesinsupportofthistheorynecksarelongerandheavierformalesthanfemalesofthesameageandmalesdonotemployotherformsofcombathoweveroneobjectionisitfailstoexplainwhyfemalegiraffesalsohavelongnecksithasalsobeenproposedthattheneckservestogivetheanimalgreatervigilancelegslocomotionandpostureagiraffesfrontandbacklegsareaboutthesamelengththeradiusandulnaofthefrontlegsarearticulatedbythecarpuswhichwhilestructurallyequivalenttothehumanwristfunctionsasakneeitappearsthatasuspensoryligamentallowsthelankylegstosupporttheanimalsgreatweightthehoovesoflargemalegiraffesreachcmcmininindiameterthefetlockofthelegislowtothegroundallowingthehooftobettersupporttheanimalsweightgiraffeslackdewclawsandinterdigitalglandswhilethepelvisisrelativelyshorttheiliumhasstretchedoutcrestsagiraffehasonlytwogaitswalkingandgallopingwalkingisdonebymovingthelegsononesideofthebodythendoingthesameontheothersidewhengallopingthehindlegsmovearoundthefrontlegsbeforethelattermoveforwardandthetailwillcurlupthemovementsoftheheadandneckprovidebalanceandcontrolmomentumwhilegallopingthegiraffecanreachasprintspeedofuptokmhmphandcansustainkmhmphforseveralkilometresgiraffeswouldprobablynotbecompetentswimmersastheirlonglegswouldbehighlycumbersomeinthewateralthoughtheymightbeabletofloatwhenswimmingthethoraxwouldbeweigheddownbythefrontlegsmakingitdifficultfortheanimaltomoveitsneckandlegsinharmonyorkeepitsheadabovethewaterssurfaceagirafferestsbylyingwithitsbodyontopofitsfoldedlegstoliedowntheanimalkneelsonitsfrontlegsandthenlowerstherestofitsbodytogetbackupitfirstgetsonitsfrontkneesandpositionsitsbacksideontopofitshindlegsitthenpullsupthebacksideupwardsandthefrontlegsstandstraightupagainateachstagetheanimalswingsitsheadforbalanceifthegiraffewantstoreachdowntodrinkiteitherspreadsitsfrontlegsorbendsitskneesstudiesincaptivityfoundthegiraffesleepsintermittentlyaroundhoursperdaymostlyatnightitusuallysleepslyingdownhoweverstandingsleepshavebeenrecordedparticularlyinolderindividualsintermittentshortdeepsleepphaseswhilelyingarecharacterisedbythegiraffebendingitsneckbackwardsandrestingitsheadonthehiporthighapositionbelievedtoindicateparadoxicalsleepinternalsystemsinmammalstheleftrecurrentlaryngealnerveislongerthantherightinthegiraffeitisovercminlongerthesenervesarelongerinthegiraffethaninanyotherlivinganimaltheleftnerveisovermftinlongeachnervecellinthispathbeginsinthebrainstemandpassesdowntheneckalongthevagusnervethenbranchesoffintotherecurrentlaryngealnervewhichpassesbackupthenecktothelarynxthusthesenervecellshavealengthofnearlymftinthelargestgiraffesdespiteitslongneckandlargeskullthebrainofthegiraffeistypicalforanungulateevaporativeheatlossinthenasalpassageskeepthegiraffesbraincooltheshapeoftheskeletongivesthegiraffeasmalllungvolumerelativetoitsmassitslongneckgivesitalargeamountofdeadspaceinspiteofitsnarrowwindpipethegiraffealsohasahightidalvolumesothebalanceofdeadspaceandtidalvolumeismuchthesameasothermammalstheanimalcanstillprovideenoughoxygenforitstissuesanditcanincreaseitsrespiratoryrateandoxygendiffusionwhenrunningthegiraffescirculatorysystemhasseveraladaptationstocompensateforitsgreatheightitskglbandcmftheartmustgenerateapproximatelydoublethebloodpressurerequiredforahumantomaintainbloodflowtothebrainassuchthewalloftheheartcanbeasthickascmingiraffeshaverelativelyhighheartratesfortheirsizeatbeatsperminutewhentheanimallowersitsheadthebloodrushesdownfairlyunopposedandaretemirabileintheupperneckwithitslargecrosssectionalareapreventsexcessbloodflowtothebrainwhenitraisesagainthebloodvesselsconstrictandpushbloodintothebrainsotheanimaldoesnotfaintthejugularveinscontainseveralmostcommonlysevenvalvestopreventbloodflowingbackintotheheadfromtheinferiorvenacavaandrightatriumwhiletheheadisloweredconverselythebloodvesselsinthelowerlegsareundergreatpressurebecauseoftheweightoffluidpressingdownonthemtosolvethisproblemtheskinofthelowerlegsisthickandtightpreventingtoomuchbloodfrompouringintothemgiraffeshaveoesophagealmusclesthatarestrongenoughtoallowregurgitationoffoodfromthestomachuptheneckandintothemouthforruminationtheyhavefourchamberedstomachswhichareadaptedtotheirspecializeddiettheintestinesofanadultgiraffemeasuremorethanmftinlengthandhavearelativelysmallratioofsmalltolargeintestinethegiraffehasasmallcompactliverinfetusestheremaybeasmallgallbladderthatvanishesbeforebirthbehaviourandecologyhabitatandfeedinggiraffesusuallyinhabitsavannahsandopenwoodlandstheypreferareasdominatedbyacacieaecommiphoracombretumandterminaliatreeoverbrachystegiawhicharemoredenselyspacedtheangolangiraffecanbefoundindesertenvironmentsgiraffesbrowseonthetwigsoftreespreferringthoseofthesubfamilyacacieaeandthegeneracommiphoraandterminaliawhichareimportantsourcesofcalciumandproteintosustainthegiraffesgrowthratetheyalsofeedonshrubsgrassandfruitagiraffeeatsaroundkglbofplantmatterdailywhenstressedgiraffesmaychewonlargebranchesstrippingthemofbarkgiraffesarealsorecordedtochewoldbonesduringthewetseasonfoodisabundantandgiraffesaremorespreadoutwhileduringthedryseasontheygatheraroundtheremainingevergreentreesandbushesmotherstendtofeedinopenareaspresumablytomakeiteasiertodetectpredatorsalthoughthismayreducetheirfeedingefficiencyasaruminantthegiraffefirstchewsitsfoodthenswallowsitforprocessingandthenvisiblypassesthehalfdigestedcuduptheneckandbackintothemouthtochewagainthegirafferequireslessfoodthanmanyotherherbivoresbecausethefoliageiteatshasmoreconcentratednutrientsandithasamoreefficientdigestivesystemtheanimalsfaecescomeintheformofsmallpelletswhenithasaccesstowateragiraffewillgonomorethanthreedayswithoutdrinkinggiraffeshaveagreateffectonthetreesthattheyfeedondelayingthegrowthofyoungtreesforsomeyearsandgivingwaistlinestotootalltreesfeedingisatitshighestduringthefirstandlasthoursofdaytimebetweenthesehoursgiraffesmostlystandandruminateruminationisthedominantactivityduringthenightwhenitismostlydonelyingdownsociallifegiraffesusuallyformgroupsthatvaryinsizeandcompositionaccordingtoecologicalanthropogenictemporalandsocialfactorstraditionallythecompositionofthesegroupshadbeendescribedasopenandeverchangingforresearchpurposesagrouphasbeendefinedasacollectionofindividualsthatarelessthanakilometreapartandmovinginthesamegeneraldirectionmorerecentstudieshavefoundthatgiraffeshavelonglastingsocialgroupsorcliquesbasedonkinshipsexorotherfactorsandthesegroupsregularlyassociatewithothergroupsinlargercommunitiesorsubcommunitieswithinafissionfusionsocietyproximitytohumanscandisruptsocialarrangementsmasaigiraffesintanzaniasortthemselvesintodifferentsubpopulationsofadultfemaleswithoverlappingrangeseachofwhichdifferinreproductiveratesandcalfmortalitydispersalismalebiasedandcanincludespatialandorsocialdispersaladultfemalesubpopulationsareconnectedbymalesintosupercommunitiesofaroundanimalsthenumberofgiraffesinagroupcanrangefromoneuptoindividualsgiraffegroupstendtobesexsegregatedalthoughmixedsexgroupsmadeofadultfemalesandyoungmalesalsooccurfemalegroupsmaybematrilineallyrelatedgenerallyfemalesaremoreselectivethanmalesinwhotheyassociatewithregardingindividualsofthesamesexparticularlystablegiraffegroupsarethosemadeofmothersandtheiryoungwhichcanlastweeksormonthsyoungmalesalsoformgroupsandwillengageinplayfightshoweverastheygetoldermalesbecomemoresolitarybutmayalsoassociateinpairsorwithfemalegroupsgiraffesarenotterritorialbuttheyhavehomerangesthatvaryaccordingtorainfallandproximitytohumansettlementsmalegiraffesoccasionallyroamfarfromareasthattheynormallyfrequentearlybiologistssuggestedgiraffesweremuteandunabletocreateenoughairflowtovibratetheirvocalfoldstothecontrarytheyhavebeenrecordedtocommunicateusingsnortssneezescoughssnoreshissesburstsmoansgruntsgrowlsandflutelikesoundsduringcourtshipmalesemitloudcoughsfemalescalltheiryoungbybellowingcalveswillemitbleatsmooingandmewingsoundssnortingandhissingisassociatedwithvigilanceduringnighttimegiraffesappeartohumtoeachotherthereissomeevidencethatgiraffesusehelmholtzresonancetocreateinfrasoundtheyalsocommunicatewithbodylanguagedominantmalesdisplaytoothermaleswithanerectpostureholdingthechinandheadupwhilewalkingstifflyanddisplayingtheirsidethelessdominantshowsubmissivenessbydroppingtheheadandearsloweringthechinandfleeingreproductionandparentalcarereproductioningiraffesisbroadlypolygamousafewoldermalesmatewiththefertilefemalesfemalescanreproducethroughouttheyearandexperienceoestruscyclingapproximatelyeverydaysfemalegiraffesinoestrousaredispersedoverspaceandtimesoreproductiveadultmalesadoptastrategyofroamingamongfemalegroupstoseekmatingopportunitieswithperiodichormoneinducedruttingbehaviourapproximatelyeverytwoweeksmalespreferyoungadultfemalesoverjuvenilesandolderadultsmalegiraffesassessfemalefertilitybytastingthefemalesurinetodetectoestrusinamultistepprocessknownastheflehmenresponseonceanoestrousfemaleisdetectedthemalewillattempttocourtherwhencourtingdominantmaleswillkeepsubordinateonesatbayacourtingmalemaylickafemalestaillayhisheadandneckonherbodyornudgeherwithhisossiconesduringcopulationthemalestandsonhishindlegswithhisheadheldupandhisfrontlegsrestingonthefemalessidesgiraffegestationlastsdaysafterwhichasinglecalfisnormallybornalthoughtwinsoccuronrareoccasionsthemothergivesbirthstandingupthecalfemergesheadandfrontlegsfirsthavingbrokenthroughthefetalmembranesandfallstothegroundseveringtheumbilicalcordanewborngiraffeismftinftintallwithinafewhoursofbirththecalfcanrunaroundandisalmostindistinguishablefromaoneweekoldhoweverforthefirstonetothreeweeksitspendsmostofitstimehidingitscoatpatternprovidingcamouflagetheossiconeswhichhavelainflatinthewombraiseupinafewdaysmotherswithcalveswillgatherinnurseryherdsmovingorbrowsingtogethermothersinsuchagroupmaysometimesleavetheircalveswithonefemalewhiletheyforageanddrinkelsewherethisisknownasacalvingpoolcalvesareatriskofpredationandamothergiraffewillstandoverthemandkickatanapproachingpredatorfemaleswatchingcalvingpoolswillonlyalerttheirownyoungiftheydetectadisturbancealthoughtheotherswilltakenoticeandfollowallosuckingwhereacalfwillsuckleafemaleotherthanitsmotherhasbeenrecordedinbothwildandcaptivegiraffescalvesfirstruminateatfourtosixmonthsandstopnursingatsixtoeightmonthsyoungmaynotreachindependenceuntiltheyaremonthsoldfemalesareabletoreproduceatfouryearsofagewhilespermatogenesisinmalesbeginsatthreetofouryearsofagemalesmustwaituntiltheyareatleastsevenyearsoldtogaintheopportunitytomateneckingmalegiraffesusetheirnecksasweaponsincombatabehaviourknownasneckingneckingisusedtoestablishdominanceandmalesthatwinneckingboutshavegreaterreproductivesuccessthisbehaviouroccursatloworhighintensityinlowintensityneckingthecombatantsrubandleanoneachotherthemalethatcankeepitselfmoreuprightwinstheboutinhighintensityneckingthecombatantswillspreadtheirfrontlegsandswingtheirnecksateachotherattemptingtolandblowswiththeirossiconesthecontestantswilltrytododgeeachothersblowsandthenpreparetocounterthepowerofablowdependsontheweightoftheskullandthearcoftheswinganeckingduelcanlastmorethanhalfanhourdependingonhowwellmatchedthecombatantsarealthoughmostfightsdonotleadtoseriousinjurytherehavebeenrecordsofbrokenjawsbrokennecksandevendeathsafteraduelitiscommonfortwomalegiraffestocaressandcourteachothersuchinteractionsbetweenmaleshavebeenfoundtobemorefrequentthanheterosexualcouplinginonestudyuptopercentofobservedmountingincidentstookplacebetweenmalestheproportionofsamesexactivitiesvariedfromtopercentonlyonepercentofsamesexmountingincidentsoccurredbetweenfemalesmortalityandhealthgiraffeshavehighadultsurvivalprobabilityandanunusuallylonglifespancomparedtootherruminantsuptoyearsadultfemalesurvivalissignificantlycorrelatedwiththenumberofsocialassociationsbecauseoftheirsizeeyesightandpowerfulkicksadultgiraffesaremostlysafefrompredationwithlionsbeingtheironlymajorthreatscalvesaremuchmorevulnerablethanadultsandarealsopreyedonbyleopardsspottedhyenasandwilddogsaquartertoahalfofgiraffecalvesreachadulthoodcalfsurvivalvariesaccordingtotheseasonofbirthwithcalvesbornduringthedryseasonhavinghighersurvivalratesthelocalseasonalpresenceoflargeherdsofmigratorywildebeestsandzebrasreducespredationpressureongiraffecalvesandincreasestheirsurvivalprobabilityinturnithasbeensuggestedthatotherungulatesmaybenefitfromassociatingwithgiraffesastheirheightallowsthemtospotpredatorsfromfurtherawayzebraswerefoundtoassesspredationriskbywatchinggiraffesandspendlesstimelookingaroundwhengiraffesarepresentsomeparasitesfeedongiraffestheyareoftenhostsforticksespeciallyintheareaaroundthegenitalswhichhavethinnerskinthanotherareastickspeciesthatcommonlyfeedongiraffesarethoseofgenerahyalommaamblyommaandrhipicephalusgiraffesmayrelyonredbilledandyellowbilledoxpeckerstocleanthemofticksandalertthemtodangergiraffeshostnumerousspeciesofinternalparasitesandaresusceptibletovariousdiseasestheywerevictimsofthenoweradicatedviralillnessrinderpestgiraffescanalsosufferfromaskindisorderwhichcomesintheformofwrinkleslesionsorrawfissuresasmuchasofgiraffeshavesymptomsofthediseaseinruahanationalparkbutitdidnotcausemortalityintarangireandislessprevalentinareaswithfertilesoilshumanrelationsculturalsignificancewithitslankybuildandspottedcoatthegiraffehasbeenasourceoffascinationthroughouthumanhistoryanditsimageiswidespreadincultureithasrepresentedflexibilityfarsightednessfemininityfragilitypassivitygracebeautyandthecontinentofafricaitselfgiraffesweredepictedinartthroughouttheafricancontinentincludingthatofthekiffiansegyptiansandkushitesthekiffianswereresponsibleforalifesizerockengravingoftwogiraffesdatedyearsagothathasbeencalledtheworldslargestrockartpetroglyphhowthegiraffegotitsheighthasbeenthesubjectofvariousafricanfolktalesthetugenpeopleofmodernkenyausedthegiraffetodepicttheirgodmdatheegyptiansgavethegiraffeitsownhieroglyphsrinoldegyptianandmmyinlaterperiodsgiraffeshaveapresenceinmodernwesternculturesalvadordaldepictedthemwithburningmanesinsomeofhissurrealistpaintingsdaliconsideredthegiraffetobeamasculinesymbolandaflaminggiraffewasmeanttobeamasculinecosmicapocalypticmonsterseveralchildrensbooksfeaturethegiraffeincludingdavidaufersthegiraffewhowasafraidofheightsgilesandreaesgiraffescantdanceandroalddahlsthegiraffeandthepellyandmegiraffeshaveappearedinanimatedfilmsasminorcharactersindisneysthelionkinganddumboandinmoreprominentrolesinthewildandthemadagascarfilmssophiethegiraffehasbeenapopularteethersinceanotherfamousfictionalgiraffeisthetoysrusmascotgeoffreythegiraffethegiraffehasalsobeenusedforsomescientificexperimentsanddiscoveriesscientistshaveusedthepropertiesofgiraffeskinasamodelforastronautandfighterpilotsuitsbecausethepeopleintheseprofessionsareindangerofpassingoutifbloodrushestotheirlegscomputerscientistshavemodeledthecoatpatternsofseveralsubspeciesusingreactiondiffusionmechanismstheconstellationofcamelopardalisintroducedintheseventeenthcenturydepictsagiraffethetswanapeopleofbotswanatraditionallyseetheconstellationcruxastwogiraffesacruxandmimosaformingamaleandgacruxanddeltacrucisformingthefemalecaptivitytheegyptianswereamongtheearliestpeopletokeepgiraffesincaptivityandshippedthemaroundthemediterraneanthegiraffewasamongthemanyanimalscollectedanddisplayedbytheromansthefirstoneinromewasbroughtinbyjuliuscaesarinbcwiththefallofthewesternromanempirethehousingofgiraffesineuropedeclinedduringthemiddleagesgiraffeswereknowntoeuropeansthroughcontactwiththearabswhoreveredthegiraffeforitspeculiarappearanceindividualcaptivegiraffesweregivencelebritystatusthroughouthistoryinagiraffefrommalindiwastakentochinabyexplorerzhengheandplacedinamingdynastyzootheanimalwasasourceoffascinationforthechinesepeoplewhoassociateditwiththemythicalqilinthemedicigiraffewasagiraffepresentedtolorenzodemediciinitcausedagreatstironitsarrivalinflorencezarafaanotherfamousgiraffewasbroughtfromegypttoparisintheearlythcenturyasagiftforcharlesxoffranceasensationthegiraffewasthesubjectofnumerousmemorabiliaorgiraffanaliagiraffeshavebecomepopularattractionsinmodernzoosthoughkeepingthemhealthyisdifficultastheyrequirevastareasandneedtoeatlargeamountsofbrowsecaptivegiraffesinnorthamericaandeuropeappeartohaveahighermortalityratethaninthewildthemostcommoncausesbeingpoorhusbandrynutritionandmanagementgiraffesinzoosdisplaystereotypicalbehavioursparticularlythelickingofinanimateobjectsandpacingzookeepersmayoffervariousactivitiestostimulategiraffesincludingtrainingthemtotakefoodfromvisitorsstablesforgiraffesarebuiltparticularlyhightoaccommodatetheirheightexploitationgiraffeswereprobablycommontargetsforhuntersthroughoutafricadifferentpartsoftheirbodieswereusedfordifferentpurposestheirmeatwasusedforfoodthetailhairsservedasflyswattersbraceletsnecklacesandthreadsshieldssandalsanddrumsweremadeusingtheskinandthestringsofmusicalinstrumentswerefromthetendonsinbugandathesmokeofburninggiraffeskinwastraditionallyusedtotreatnosebleedsthehumrpeopleofkordofanconsumethedrinkummnyolokhwhichispreparedfromtheliverandbonemarrowofgiraffesrichardrudgleyhypothesisedthatummnyolokhmightcontaindmtthedrinkissaidtocausehallucinationsofgiraffesbelievedtobethegiraffesghostsbythehumrconservationstatusingiraffeswereassessedasvulnerablefromaconservationperspectivebytheiucninitwasestimatedthereweregiraffesinthewildthisdeclinedtooverinestimatesasofindicatethereareapproximatelymembersofgiraffainthewildthemasaiandreticulatedsubspeciesareendangeredandtherothschildsubspeciesisnearthreatenedthenubiansubspeciesiscriticallyendangeredtheprimarycausesforgiraffepopulationdeclinesarehabitatlossanddirectkillingforbushmeatmarketsgiraffeshavebeenextirpatedfrommuchoftheirhistoricrangeincludingeritreaguineamauritaniaandsenegaltheymayalsohavedisappearedfromangolamaliandnigeriabuthavebeenintroducedtorwandaandeswatiniasofthereweremorethanincaptivityatspeciesregisteredzooshabitatdestructionhashurtthegiraffeinthesaheltheneedforfirewoodandgrazingroomforlivestockhasledtodeforestationnormallygiraffescancoexistwithlivestocksincetheyavoiddirectcompetitionbyfeedingabovetheminseveredroughtsinnorthernkenyaledtoincreasedtensionsoverlandandthekillingofwildlifebyherderswithgiraffepopulationsbeingparticularlyhitprotectedareaslikenationalparksprovideimportanthabitatandantipoachingprotectiontogiraffepopulationscommunitybasedconservationeffortsoutsidenationalparksarealsoeffectiveatprotectinggiraffesandtheirhabitatsprivategamereserveshavecontributedtothepreservationofgiraffepopulationsineasternandsouthernafricathegiraffeisaprotectedspeciesinmostofitsrangeitisthenationalanimaloftanzaniaandisprotectedbylawandunauthorisedkillingcanresultinimprisonmenttheunbackedconventionofmigratoryspeciesselectedgiraffesforprotectioniningiraffeswerelistedunderappendixiioftheconventiononinternationaltradeinendangeredspeciesciteswhichmeansinternationaltradeincludinginpartsderivativesisregulatedtranslocationsaresometimesusedtoaugmentorreestablishdiminishedorextirpatedpopulationsbuttheseactivitiesareriskyanddifficulttoundertakeusingthebestpracticesofextensivepreandposttranslocationstudiesandensuringaviablefoundingpopulationaerialsurveyisthemostcommonmethodofmonitoringgiraffepopulationtrendsinthevastroadlesstractsofafricanlandscapesbutaerialmethodsareknowntoundercountgiraffesgroundbasedsurveymethodsaremoreaccurateandcanbeusedinconjunctionwithaerialsurveystomakeaccurateestimatesofpopulationsizesandtrendsseealsofaunaofafricagiraffecentregiraffemanorhotelinnairobiwithgiraffesreferencesexternallinksofficialwebsiteofthegiraffeconservationfoundation\n"
          ]
        }
      ]
    },
    {
      "cell_type": "markdown",
      "metadata": {
        "id": "jXFTWwd0rk63"
      },
      "source": [
        "Now let us calculate the frequency of the character n-grams. N-grams are groups of characters of size n. A unigram is a single character and a bigram is a group of two characters and so on.\n",
        "\n",
        "Let us count the frequency of each character in a text and plot it in a histogram."
      ]
    },
    {
      "cell_type": "code",
      "metadata": {
        "id": "g3Lz3YUjN0L5"
      },
      "source": [
        "# convert a tuple of characters to a string\n",
        "def tuple2string(tup):\n",
        "  st = ''\n",
        "  for ii in tup:\n",
        "    st = st + ii\n",
        "  return st\n",
        "\n",
        "# convert a tuple of tuples to a list of strings\n",
        "def key2string(keys):\n",
        "  return [tuple2string(i) for i in keys]\n",
        "\n",
        "# plot the histogram\n",
        "def plothistogram(ngram):\n",
        "  keys = key2string(ngram.keys())\n",
        "  values = list(ngram.values())\n",
        "\n",
        "  # sort the keys in alphabetic order\n",
        "  combined = zip(keys, values)\n",
        "  zipped_sorted = sorted(combined, key=lambda x: x[0])\n",
        "  keys, values = map(list, zip(*zipped_sorted))\n",
        "  plt.bar(keys, values)"
      ],
      "execution_count": 51,
      "outputs": []
    },
    {
      "cell_type": "markdown",
      "metadata": {
        "id": "zHD62zbZcwAB"
      },
      "source": [
        "Let us compare the histograms of English pages and French pages. Can you spot a difference?"
      ]
    },
    {
      "cell_type": "code",
      "metadata": {
        "id": "LKcGRgH6b0KP",
        "colab": {
          "base_uri": "https://localhost:8080/",
          "height": 887
        },
        "outputId": "8bd912bb-ce6c-4f3b-9afe-5ea006da831b"
      },
      "source": [
        "unigram_eng1 = Counter(ngrams(eng1,1))\n",
        "plothistogram(unigram_eng1)\n",
        "plt.title('English 1')\n",
        "plt.show()\n",
        "unigram_eng2 = Counter(ngrams(eng2,1))\n",
        "plothistogram(unigram_eng2)\n",
        "plt.title('English 2')\n",
        "plt.show()"
      ],
      "execution_count": 52,
      "outputs": [
        {
          "output_type": "display_data",
          "data": {
            "text/plain": [
              "<Figure size 640x480 with 1 Axes>"
            ],
            "image/png": "[encoded data removed]"
          },
          "metadata": {}
        },
        {
          "output_type": "display_data",
          "data": {
            "text/plain": [
              "<Figure size 640x480 with 1 Axes>"
            ],
            "image/png": "[encoded data removed]"
          },
          "metadata": {}
        }
      ]
    },
    {
      "cell_type": "code",
      "metadata": {
        "id": "fDM_UhCL2QLt",
        "colab": {
          "base_uri": "https://localhost:8080/",
          "height": 887
        },
        "outputId": "2136d8f3-3d1b-4a30-b3d6-68aa073f1fe9"
      },
      "source": [
        "unigram_fr1 = Counter(ngrams(fr1,1))\n",
        "plothistogram(unigram_eng1)\n",
        "plt.title('French 1')\n",
        "plt.show()\n",
        "unigram_fr2 = Counter(ngrams(fr2,1))\n",
        "plothistogram(unigram_fr2)\n",
        "plt.title('French 2')\n",
        "plt.show()"
      ],
      "execution_count": 53,
      "outputs": [
        {
          "output_type": "display_data",
          "data": {
            "text/plain": [
              "<Figure size 640x480 with 1 Axes>"
            ],
            "image/png": "[encoded data removed]"
          },
          "metadata": {}
        },
        {
          "output_type": "display_data",
          "data": {
            "text/plain": [
              "<Figure size 640x480 with 1 Axes>"
            ],
            "image/png": "[encoded data removed]"
          },
          "metadata": {}
        }
      ]
    },
    {
      "cell_type": "markdown",
      "metadata": {
        "id": "kxgrdZLKdkAB"
      },
      "source": [
        "We can see that the unigrams for French and English are very similar. So this is not a good feature if we want to distinguish between English and French. Let us look at bigrams."
      ]
    },
    {
      "cell_type": "code",
      "metadata": {
        "id": "OmRCxItx2T9W",
        "colab": {
          "base_uri": "https://localhost:8080/",
          "height": 1000
        },
        "outputId": "629717dd-70e6-48ae-f511-a4ea190235ab"
      },
      "source": [
        "bigram_eng1 = Counter(ngrams(eng1,2)) # bigrams\n",
        "plothistogram(bigram_eng1)\n",
        "plt.title('English 1')\n",
        "plt.show()\n",
        "\n",
        "bigram_eng2 = Counter(ngrams(eng2,2))\n",
        "plothistogram(bigram_eng2)\n",
        "plt.title('English 2')\n",
        "plt.show()\n",
        "\n",
        "bigram_fr1 = Counter(ngrams(fr1,2))\n",
        "plothistogram(bigram_eng1)\n",
        "plt.title('French 1')\n",
        "plt.show()\n",
        "\n",
        "bigram_fr2 = Counter(ngrams(fr2,2))\n",
        "plothistogram(bigram_fr2)\n",
        "plt.title('French 2')\n",
        "plt.show()"
      ],
      "execution_count": null,
      "outputs": [
        {
          "output_type": "display_data",
          "data": {
            "text/plain": [
              "<Figure size 640x480 with 1 Axes>"
            ],
            "image/png": "[encoded data removed]"
          },
          "metadata": {}
        },
        {
          "output_type": "display_data",
          "data": {
            "text/plain": [
              "<Figure size 640x480 with 1 Axes>"
            ],
            "image/png": "[encoded data removed]"
          },
          "metadata": {}
        },
        {
          "output_type": "display_data",
          "data": {
            "text/plain": [
              "<Figure size 640x480 with 1 Axes>"
            ],
            "image/png": "[encoded data removed]"
          },
          "metadata": {}
        }
      ]
    },
    {
      "cell_type": "markdown",
      "metadata": {
        "id": "O-egsHMIg5Rp"
      },
      "source": [
        "Another way to visualize bigrams is to use a 2-dimensional graph."
      ]
    },
    {
      "cell_type": "code",
      "metadata": {
        "id": "3EaPJgtaVxZM"
      },
      "source": [
        "def plotbihistogram(ngram):\n",
        "  freq = np.zeros((26,26))\n",
        "  for ii in range(26):\n",
        "    for jj in range(26):\n",
        "      freq[ii,jj] = ngram[(chr(ord('a')+ii), chr(ord('a')+jj))]\n",
        "  plt.imshow(freq, cmap = 'jet')\n",
        "  return freq"
      ],
      "execution_count": null,
      "outputs": []
    },
    {
      "cell_type": "code",
      "metadata": {
        "id": "M7jq3AwnVzQT"
      },
      "source": [
        "bieng1 = plotbihistogram(bigram_eng1)\n",
        "plt.show()\n",
        "bieng2 = plotbihistogram(bigram_eng2)"
      ],
      "execution_count": null,
      "outputs": []
    },
    {
      "cell_type": "code",
      "metadata": {
        "id": "UXPTOj67WsPT"
      },
      "source": [
        "bifr1 = plotbihistogram(bigram_fr1)\n",
        "plt.show()\n",
        "bifr2 = plotbihistogram(bigram_fr2)"
      ],
      "execution_count": null,
      "outputs": []
    },
    {
      "cell_type": "markdown",
      "metadata": {
        "id": "rGOEHcyGokD0"
      },
      "source": [
        "Let us look at the top 10 ngrams for each text."
      ]
    },
    {
      "cell_type": "code",
      "metadata": {
        "id": "dk2TkzTno8vb"
      },
      "source": [
        "from IPython.core.debugger import set_trace\n",
        "\n",
        "def ind2tup(ind):\n",
        "  ind = int(ind)\n",
        "  i = int(ind/26)\n",
        "  j = int(ind%26)\n",
        "  return (chr(ord('a')+i), chr(ord('a')+j))\n",
        "\n",
        "def ShowTopN(bifreq, n=10):\n",
        "  f = bifreq.flatten()\n",
        "  arg = np.argsort(-f)\n",
        "  for ii in range(n):\n",
        "    print(f'{ind2tup(arg[ii])} : {f[arg[ii]]}')"
      ],
      "execution_count": null,
      "outputs": []
    },
    {
      "cell_type": "code",
      "metadata": {
        "id": "_HeWNh_q0QZ1"
      },
      "source": [
        "print('\\nEnglish 1:')\n",
        "ShowTopN(bieng1)\n",
        "print('\\nEnglish 2:')\n",
        "ShowTopN(bieng2)\n",
        "print('\\nFrench 1:')\n",
        "ShowTopN(bifr1)\n",
        "print('\\nFrench 2:')\n",
        "ShowTopN(bifr2)"
      ],
      "execution_count": null,
      "outputs": []
    },
    {
      "cell_type": "markdown",
      "metadata": {
        "id": "6kDovOP4l98z"
      },
      "source": [
        "We observe that the bigrams are similar across different topics but different across languages. Thus, the bigram frequency is a good feature for distinguishing languages, but not for distinguishing topics.\n",
        "\n",
        "Thus, we were able to convert a many-dimensional input (the text) to 26 dimesions (unigrams) or 26*26 dimensions (bigrams).\n",
        "\n",
        "\n",
        "A few ways to explore:\n",
        "1. Try with different languages.\n",
        "2. The topics we used are quite similar, wikipedia articles of 'elephant' and 'giraffe'. What happens if we use very different topics? What if we use text from another source than Wikipedia?\n",
        "3. How can we use and visualize trigrams and higher n-grams?"
      ]
    },
    {
      "cell_type": "markdown",
      "source": [
        "ANSWER FOR QUESTION 1\n"
      ],
      "metadata": {
        "id": "bJxoi89BLBZp"
      }
    },
    {
      "cell_type": "code",
      "source": [
        "! pip install wikipedia\n",
        "\n",
        "import wikipedia\n",
        "import nltk\n",
        "from nltk.util import ngrams\n",
        "from collections import Counter\n",
        "import matplotlib.pyplot as plt\n",
        "import numpy as np\n",
        "import re\n",
        "import unicodedata\n",
        "import plotly.express as px\n",
        "import pandas as pd"
      ],
      "metadata": {
        "id": "Otn8Gm8sLXbx"
      },
      "execution_count": null,
      "outputs": []
    },
    {
      "cell_type": "code",
      "source": [
        "data1 = 'APPLE'\n",
        "data2 = 'BANANA'\n",
        "wikipedia.set_lang('ar') #using set launguage download the data in required language\n",
        "arb1 = wikipedia.page(data1).content#total content about the data1 insted of page we can use summary\n",
        "arb2 = wikipedia.page(data2).content\n",
        "wikipedia.set_lang('hi')#hindi language\n",
        "hin1 = wikipedia.page(data1).content\n",
        "hin2 = wikipedia.page(data2).content"
      ],
      "metadata": {
        "id": "rlfuATLYLf5a"
      },
      "execution_count": null,
      "outputs": []
    },
    {
      "cell_type": "code",
      "source": [
        "hin1"
      ],
      "metadata": {
        "id": "IPl_n9M9LqAi"
      },
      "execution_count": null,
      "outputs": []
    },
    {
      "cell_type": "code",
      "source": [
        "#now we have to remove spaces and special characters\n",
        "def cleanup(text):\n",
        "  text = text.lower()  # make it lowercase\n",
        "  text = re.sub('[^a-z]+', '', text) # only keep characters, i.e. if not a-z then replace with space.\n",
        "  return text\n"
      ],
      "metadata": {
        "id": "8RP8z6wrL2Ks"
      },
      "execution_count": null,
      "outputs": []
    },
    {
      "cell_type": "code",
      "source": [
        "arb1 = cleanup(arb1)\n",
        "arb2 = cleanup(arb2)\n",
        "hin1 = cleanup(hin1)\n",
        "hin2 = cleanup(hin2)"
      ],
      "metadata": {
        "id": "s3086KDdL70r"
      },
      "execution_count": null,
      "outputs": []
    },
    {
      "cell_type": "code",
      "source": [
        "arb1"
      ],
      "metadata": {
        "id": "tu1QkIJzMALW"
      },
      "execution_count": null,
      "outputs": []
    },
    {
      "cell_type": "code",
      "source": [
        "def tuple2string(tup):\n",
        "\n",
        "    st = ''\n",
        "    for ii in tup:\n",
        "        st = st + ii\n",
        "        return st\n",
        "\n",
        "# convert a tuple of tuples to a list of strings\n",
        "def key2string(keys):\n",
        "  return [tuple2string(i) for i in keys]\n",
        "\n",
        "# plot the histogram\n",
        "def plothistogram(ngram):\n",
        "  keys = key2string(ngram.keys())\n",
        "  values = list(ngram.values())\n",
        "\n",
        "  # sort the keys in alphabetic order\n",
        "  combined = zip(keys, values) ## keys i.e. characters on x axis and their count in the given doc as values.\n",
        "  zipped_sorted = sorted(combined, key=lambda x: x[0]) ## sorting based on keys, to get a to z order.\n",
        "  keys, values = map(list, zip(*zipped_sorted))\n",
        "  plt.bar(keys, values)\n"
      ],
      "metadata": {
        "id": "IxI7l9P_MGh0"
      },
      "execution_count": null,
      "outputs": []
    },
    {
      "cell_type": "code",
      "source": [
        "unigram_arb1= Counter(ngrams(arb1,1)) ##just to get count of each element.\n",
        "plothistogram(unigram_arb1)\n",
        "plt.title('ARABIC 1')\n",
        "plt.show()\n",
        "unigram_arb2= Counter(ngrams(arb2,1))\n",
        "plothistogram(unigram_arb2)\n",
        "plt.title('ARABIC 2')\n",
        "plt.show()"
      ],
      "metadata": {
        "id": "DR3cXwdGMOnO"
      },
      "execution_count": null,
      "outputs": []
    },
    {
      "cell_type": "code",
      "source": [
        "## Now instead of unigram, we will use bigrams as features, and see how useful bigrams are as features.\n",
        "\n",
        "bigram_arb1= Counter(ngrams(arb1,2)) # bigrams\n",
        "plothistogram(bigram_arb1)\n",
        "plt.title('ARABIC 1')\n",
        "plt.show()\n",
        "\n",
        "bigram_arb2 = Counter(ngrams(arb2,2))\n",
        "plothistogram(bigram_arb2)\n",
        "plt.title('ARABIC 2')\n",
        "plt.show()\n",
        "\n",
        "bigram_hin1 = Counter(ngrams(hin1,2))\n",
        "plothistogram(bigram_hin1)\n",
        "plt.title('HINDI 1')\n",
        "plt.show()\n",
        "\n",
        "bigram_hin2 = Counter(ngrams(hin2,2))\n",
        "plothistogram(bigram_hin2)\n",
        "plt.title('HINDI 2')\n",
        "plt.show()\n"
      ],
      "metadata": {
        "id": "DPWDrBtfMVhD"
      },
      "execution_count": null,
      "outputs": []
    },
    {
      "cell_type": "code",
      "source": [
        "bigram_hin1\n"
      ],
      "metadata": {
        "id": "5iWwVq9cMvnv"
      },
      "execution_count": null,
      "outputs": []
    },
    {
      "cell_type": "code",
      "source": [
        "## a function to plot 2-D histogram. The values are color mapped.\n",
        "\n",
        "def plotbihistogram(ngram):\n",
        "  freq = np.zeros((26,26))\n",
        "  for ii in range(26):\n",
        "    for jj in range(26):\n",
        "      freq[ii,jj] = ngram[(chr(ord('a')+ii), chr(ord('a')+jj))] #ord converts char to code\n",
        "  plt.imshow(freq, cmap = 'jet')\n",
        "  plt.colorbar()\n",
        "  return freq"
      ],
      "metadata": {
        "id": "eW9bb0OAM0vo"
      },
      "execution_count": null,
      "outputs": []
    },
    {
      "cell_type": "code",
      "source": [
        "bieng1 = plotbihistogram(bigram_hin1)\n",
        "plt.show()\n",
        "bieng2 = plotbihistogram(bigram_arb2)"
      ],
      "metadata": {
        "id": "ZXfNnCyXM67t"
      },
      "execution_count": null,
      "outputs": []
    },
    {
      "cell_type": "code",
      "source": [
        "bifr1 = plotbihistogram(bigram_hin2)\n",
        "plt.show()\n",
        "bifr2 = plotbihistogram(bigram_arb1)\n"
      ],
      "metadata": {
        "id": "vi-VsXjYNCSQ"
      },
      "execution_count": null,
      "outputs": []
    },
    {
      "cell_type": "markdown",
      "source": [
        "# ANSWER FOR QUESTION 3"
      ],
      "metadata": {
        "id": "8Nkh2KQdNJQ7"
      }
    },
    {
      "cell_type": "markdown",
      "source": [
        "tri grams-sequences of words or symbols or a tokens in a document they come with to play when we deal with text data in NLP\n",
        "\n",
        "n grams- sequences of words or symbols or a tokens in a document they come with to play when we deal with text data in NLP\n",
        "\n",
        "Features of Images. Images in digital format are stored as numeric values, and hence we can use these values as features. for ex : a black and white (binary) image is stored as an array of 0 and 255 or 0 and 1."
      ],
      "metadata": {
        "id": "YoqrkAW_NNoM"
      }
    },
    {
      "cell_type": "markdown",
      "metadata": {
        "id": "2ZJfjIHk-oHV"
      },
      "source": [
        "# Part 2: Written numbers\n",
        "\n",
        "We will use a subset of the MNIST dataset. Each input character is represented in a 28*28 array. Let us see if we can extract some simple features from these images which can help us distinguish between the digits.\n",
        "\n",
        "Load the dataset:"
      ]
    },
    {
      "cell_type": "code",
      "metadata": {
        "id": "yNsLJSr6wGY0"
      },
      "source": [
        "from keras.datasets import mnist\n",
        "\n",
        "#loading the dataset\n",
        "(train_X, train_y), (test_X, test_y) = mnist.load_data()"
      ],
      "execution_count": null,
      "outputs": []
    },
    {
      "cell_type": "markdown",
      "metadata": {
        "id": "jVNr144WAUZO"
      },
      "source": [
        "Extract a subset of the data for our experiment:"
      ]
    },
    {
      "cell_type": "code",
      "metadata": {
        "id": "P3MN8ddxAASZ"
      },
      "source": [
        "no1 = train_X[train_y==1,:,:]\n",
        "no0 = train_X[train_y==0,:,:]"
      ],
      "execution_count": null,
      "outputs": []
    },
    {
      "cell_type": "markdown",
      "metadata": {
        "id": "ePXCs0qyCLpc"
      },
      "source": [
        "Let us visualize a few images here:"
      ]
    },
    {
      "cell_type": "code",
      "metadata": {
        "id": "BQeyZSh-Arpc"
      },
      "source": [
        "for ii in range(5):\n",
        "  plt.subplot(1, 5, ii+1)\n",
        "  plt.imshow(no1[ii,:,:])\n",
        "plt.show()\n",
        "for ii in range(5):\n",
        "  plt.subplot(1, 5, ii+1)\n",
        "  plt.imshow(no0[ii,:,:])\n",
        "plt.show()"
      ],
      "execution_count": null,
      "outputs": []
    },
    {
      "cell_type": "markdown",
      "metadata": {
        "id": "1g-Tg7EKDz96"
      },
      "source": [
        "suNow, let us start with a simple feature: the sum of all pixels and see how good this feature is."
      ]
    },
    {
      "cell_type": "code",
      "metadata": {
        "id": "I8SztDk7CyZc"
      },
      "source": [
        "sum1 = np.sum(no1>0, (1,2)) # threshold before adding up\n",
        "sum0 = np.sum(no0>0, (1,2))"
      ],
      "execution_count": null,
      "outputs": []
    },
    {
      "cell_type": "markdown",
      "metadata": {
        "id": "8oW3XCOCE7Zv"
      },
      "source": [
        "Let us visualize how good this feature is: (X-axis is mean, y-axis is the digit)"
      ]
    },
    {
      "cell_type": "code",
      "metadata": {
        "id": "i8PIe8o_DPpU"
      },
      "source": [
        "plt.hist(sum1, alpha=0.7);\n",
        "plt.hist(sum0, alpha=0.7);"
      ],
      "execution_count": null,
      "outputs": []
    },
    {
      "cell_type": "markdown",
      "metadata": {
        "id": "7_hToEepFtl2"
      },
      "source": [
        "We can already see that this feature separates the two classes quite well.\n",
        "\n",
        "Let us look at another, more complicated feature. We will count the number black pixels that are surrounded on four sides by non-black pixels, or \"hole pixels\"."
      ]
    },
    {
      "cell_type": "code",
      "metadata": {
        "id": "HwEnlm6RFFej"
      },
      "source": [
        "def cumArray(img):\n",
        "  img2 = img.copy()\n",
        "  for ii in range(1, img2.shape[1]):\n",
        "    img2[ii,:] = img2[ii,:] + img2[ii-1,:]  # for every row, add up all the rows above it.\n",
        "  img2 = img2>0\n",
        "  return img2\n",
        "\n",
        "def getHolePixels(img):\n",
        "  im1 = cumArray(img)\n",
        "  im2 = np.rot90(cumArray(np.rot90(img)), 3) # rotate and cumulate it again for differnt direction\n",
        "  im3 = np.rot90(cumArray(np.rot90(img, 2)), 2)\n",
        "  im4 = np.rot90(cumArray(np.rot90(img, 3)), 1)\n",
        "  hull =  im1 & im2 & im3 & im4 # this will create a binary image with all the holes filled in.\n",
        "  hole = hull & ~ (img>0) # remove the original digit to leave behind the holes\n",
        "  return hole"
      ],
      "execution_count": null,
      "outputs": []
    },
    {
      "cell_type": "markdown",
      "metadata": {
        "id": "iw3HjgnupUEI"
      },
      "source": [
        "Visualize a few:"
      ]
    },
    {
      "cell_type": "code",
      "metadata": {
        "id": "H0sjr23NYEFe"
      },
      "source": [
        "imgs = [no1[456,:,:],  no0[456,:,:]]\n",
        "for img in imgs:\n",
        "  plt.subplot(1,2,1)\n",
        "  plt.imshow(getHolePixels(img))\n",
        "  plt.subplot(1,2,2)\n",
        "  plt.imshow(img)\n",
        "  plt.show()"
      ],
      "execution_count": null,
      "outputs": []
    },
    {
      "cell_type": "markdown",
      "metadata": {
        "id": "vS-4erNXtxMi"
      },
      "source": [
        "Now let us plot the number of hole pixels and see how this feature behaves"
      ]
    },
    {
      "cell_type": "code",
      "metadata": {
        "id": "Dpm1dRgsety8"
      },
      "source": [
        "hole1 = np.array([getHolePixels(i).sum() for i in no1])\n",
        "hole0 = np.array([getHolePixels(i).sum() for i in no0])\n",
        "\n",
        "plt.hist(hole1, alpha=0.7);\n",
        "plt.hist(hole0, alpha=0.7);"
      ],
      "execution_count": null,
      "outputs": []
    },
    {
      "cell_type": "markdown",
      "metadata": {
        "id": "8UjCBHpJ31yq"
      },
      "source": [
        "This feature works even better to distinguish between one and zero.\n",
        "\n",
        "\n",
        "Now let us try the number of pixels in the 'hull' or the number with the holes filled in:"
      ]
    },
    {
      "cell_type": "code",
      "metadata": {
        "id": "vPtJ8eqolAOf"
      },
      "source": [
        "def getHullPixels(img):\n",
        "  im1 = cumArray(img)\n",
        "  im2 = np.rot90(cumArray(np.rot90(img)), 3) # rotate and cumulate it again for differnt direction\n",
        "  im3 = np.rot90(cumArray(np.rot90(img, 2)), 2)\n",
        "  im4 = np.rot90(cumArray(np.rot90(img, 3)), 1)\n",
        "  hull =  im1 & im2 & im3 & im4 # this will create a binary image with all the holes filled in.\n",
        "  return hull"
      ],
      "execution_count": null,
      "outputs": []
    },
    {
      "cell_type": "code",
      "metadata": {
        "id": "W3fOgyYjmJ48"
      },
      "source": [
        "imgs = [no1[456,:,:],  no0[456,:,:]]\n",
        "for img in imgs:\n",
        "  plt.subplot(1,2,1)\n",
        "  plt.imshow(getHullPixels(img))\n",
        "  plt.subplot(1,2,2)\n",
        "  plt.imshow(img)\n",
        "  plt.show()"
      ],
      "execution_count": null,
      "outputs": []
    },
    {
      "cell_type": "markdown",
      "metadata": {
        "id": "M5rHal_HRWnE"
      },
      "source": [
        "Plotting the number of hull pixels versus the digit:"
      ]
    },
    {
      "cell_type": "code",
      "metadata": {
        "id": "WTLzYZLTRQ_p"
      },
      "source": [
        "hull1 = np.array([getHullPixels(i).sum() for i in no1])\n",
        "hull0 = np.array([getHullPixels(i).sum() for i in no0])\n",
        "\n",
        "plt.hist(hull1, alpha=0.7);\n",
        "plt.hist(hull0, alpha=0.7);"
      ],
      "execution_count": null,
      "outputs": []
    },
    {
      "cell_type": "markdown",
      "metadata": {
        "id": "OSzH26ElXNri"
      },
      "source": [
        "Let us try one more feature, where we look at the number of boundary pixels in each image."
      ]
    },
    {
      "cell_type": "code",
      "metadata": {
        "id": "h-2czBypXMwT"
      },
      "source": [
        "def minus(a, b):\n",
        "  return a & ~ b\n",
        "\n",
        "def getBoundaryPixels(img):\n",
        "  img = img.copy()>0  # binarize the image\n",
        "  rshift = np.roll(img, 1, 1)\n",
        "  lshift = np.roll(img, -1 ,1)\n",
        "  ushift = np.roll(img, -1, 0)\n",
        "  dshift = np.roll(img, 1, 0)\n",
        "  boundary = minus(img, rshift) | minus(img, lshift) | minus(img, ushift) | minus(img, dshift)\n",
        "  return boundary"
      ],
      "execution_count": null,
      "outputs": []
    },
    {
      "cell_type": "code",
      "metadata": {
        "id": "u-V688jFerXh"
      },
      "source": [
        "imgs = [no1[456,:,:],  no0[456,:,:]]\n",
        "for img in imgs:\n",
        "  plt.subplot(1,2,1)\n",
        "  plt.imshow(getBoundaryPixels(img))\n",
        "  plt.subplot(1,2,2)\n",
        "  plt.imshow(img)\n",
        "  plt.show()"
      ],
      "execution_count": null,
      "outputs": []
    },
    {
      "cell_type": "code",
      "metadata": {
        "id": "kSsxsbCNXcNh"
      },
      "source": [
        "bound1 = np.array([getBoundaryPixels(i).sum() for i in no1])\n",
        "bound0= np.array([getBoundaryPixels(i).sum() for i in no0])\n",
        "\n",
        "plt.hist(bound1, alpha=0.7);\n",
        "plt.hist(bound0, alpha=0.7);"
      ],
      "execution_count": null,
      "outputs": []
    },
    {
      "cell_type": "markdown",
      "metadata": {
        "id": "WuP04Ao_R0Yz"
      },
      "source": [
        "What will happen if we plot two features together?"
      ]
    },
    {
      "cell_type": "code",
      "metadata": {
        "id": "kl7xWg-WRkAy"
      },
      "source": [
        "# Sum and hull\n",
        "plt.scatter(sum0, hull0, alpha=0.1)\n",
        "plt.scatter(sum1, hull1, alpha=0.1)\n",
        "plt.xlabel('Sum')\n",
        "plt.ylabel('Hull')\n",
        "plt.legend(['0','1'])\n",
        "plt.show()\n",
        "\n",
        "# Sum and hole\n",
        "plt.scatter(sum0, hole0, alpha=0.1)\n",
        "plt.scatter(sum1, hole1, alpha=0.1)\n",
        "plt.xlabel('Sum');\n",
        "plt.ylabel('Hole');\n",
        "plt.legend(['0','1'])\n",
        "plt.show()\n",
        "\n",
        "# Hole and boundary\n",
        "plt.scatter(bound0, hole0, alpha=0.1)\n",
        "plt.scatter(bound1, hole1, alpha=0.1)\n",
        "plt.xlabel('Boundary');\n",
        "plt.ylabel('Hole');\n",
        "plt.legend(['0','1'])\n",
        "plt.show()"
      ],
      "execution_count": null,
      "outputs": []
    },
    {
      "cell_type": "markdown",
      "metadata": {
        "id": "0JYLmKNFSIT-"
      },
      "source": [
        "Now let us try plotting 3 features together."
      ]
    },
    {
      "cell_type": "code",
      "metadata": {
        "id": "lOKEHIXFaWp_"
      },
      "source": [
        "cl1 = ['class 1']*len(sum1)\n",
        "cl0 = ['class 0']*len(sum0)\n",
        "df = pd.DataFrame(list(zip(np.concatenate((hole0, hole0)), np.concatenate((sum1,sum0)),\n",
        "                           np.concatenate((bound1,bound0)), np.concatenate((cl1, cl0)))),\n",
        "               columns =['Hole', 'Sum', 'Boundary', 'Class'])\n",
        "df.head()\n",
        "fig = px.scatter_3d(df, x='Hole', y='Sum', z='Boundary', color='Class', opacity=0.1)\n",
        "fig.show()"
      ],
      "execution_count": null,
      "outputs": []
    },
    {
      "cell_type": "markdown",
      "metadata": {
        "id": "paDGHlFSd5Fu"
      },
      "source": [
        "Feel free to explore the above graph with your mouse.\n",
        "\n",
        "\n",
        "We have seen that we extracted four features from a 28*28 dimensional image.\n",
        "\n",
        "\n",
        "Some questions to explore:\n",
        "1. Which is the best combination of features?\n",
        "2. How would you test or visualize four or more features?\n",
        "3. Can you come up with your own features?\n",
        "4. Will these features work for different classes other than 0 and 1?\n",
        "5. What will happen if we take more that two classes at a time?"
      ]
    },
    {
      "cell_type": "markdown",
      "source": [
        "# ANSWER FOR QUESTION 1"
      ],
      "metadata": {
        "id": "2DOA9diKNrOJ"
      }
    },
    {
      "cell_type": "markdown",
      "source": [
        "principal component analysis is the best feature comibnation PCA-is a dimentionality redutenction method is often used to reduce the dimentionality of large data sets by transforming set of variables into a smaller one the still contain most of the infomation in large"
      ],
      "metadata": {
        "id": "TKDrj-plNv2R"
      }
    },
    {
      "cell_type": "markdown",
      "source": [
        "# ANSWER FOR QUESTION 2"
      ],
      "metadata": {
        "id": "Q3PxkDAhNzke"
      }
    },
    {
      "cell_type": "markdown",
      "source": [
        "based on below testing features we can test the four or more features\n",
        "\n",
        "feature tresholds\n",
        "\n",
        "features relevence/importence\n",
        "\n",
        "features sutability/cost\n",
        "\n",
        "features compilance\n",
        "\n",
        "features relationship with outcome variable\n",
        "\n",
        "unit test for code generating features\n",
        "\n",
        "static code review of code generating features"
      ],
      "metadata": {
        "id": "EonOk7bvN3zp"
      }
    },
    {
      "cell_type": "markdown",
      "source": [
        "# ANSWER FOR QUESTION 3"
      ],
      "metadata": {
        "id": "BaW0wMB3N9uw"
      }
    },
    {
      "cell_type": "markdown",
      "source": [
        "I came with my own feature if i predict the yearly expenses of a person age is good predictor beacuse as people become young and mature their rensposibilitys increases .one student start out poor but as a age varies he become rich depends and her age and mature mind in this age is the feature"
      ],
      "metadata": {
        "id": "MPzQue98OB6E"
      }
    }
  ]
}